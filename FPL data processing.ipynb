{
 "cells": [
  {
   "cell_type": "code",
   "execution_count": 16,
   "metadata": {},
   "outputs": [],
   "source": [
    "import pandas as pd\n",
    "import seaborn as sns\n",
    "import matplotlib.pyplot as plt\n",
    "from sklearn import datasets, ensemble\n",
    "from sklearn.metrics import mean_squared_error"
   ]
  },
  {
   "cell_type": "code",
   "execution_count": 17,
   "metadata": {},
   "outputs": [],
   "source": [
    "data=pd.read_csv('datacleaned.csv')\n",
    "data=data.drop(['Unnamed: 0'], axis=1)"
   ]
  },
  {
   "cell_type": "markdown",
   "metadata": {},
   "source": [
    "# Only taking data from gameweeks 5+"
   ]
  },
  {
   "cell_type": "code",
   "execution_count": 18,
   "metadata": {},
   "outputs": [],
   "source": [
    "playerlist=list(data['playerid'].unique())"
   ]
  },
  {
   "cell_type": "code",
   "execution_count": 20,
   "metadata": {},
   "outputs": [],
   "source": [
    "pointsdict={}\n",
    "fdrdict={}\n",
    "for i in playerlist:\n",
    "    ptslist=[]\n",
    "    fdrlist=[]\n",
    "    selection=data[data['playerid']==i]\n",
    "    for gw in range(1,39):\n",
    "        ptslist.append(selection[selection['GW']==gw].iloc[0]['total_points'])\n",
    "        fdrlist.append(selection[selection['GW']==gw].iloc[0]['fdr'])\n",
    "    pointsdict[i]=ptslist\n",
    "    fdrdict[i]=fdrlist"
   ]
  },
  {
   "cell_type": "code",
   "execution_count": 27,
   "metadata": {},
   "outputs": [
    {
     "data": {
      "text/plain": [
       "0"
      ]
     },
     "execution_count": 27,
     "metadata": {},
     "output_type": "execute_result"
    }
   ],
   "source": [
    "pointsdict[618][23]"
   ]
  },
  {
   "cell_type": "code",
   "execution_count": 6,
   "metadata": {},
   "outputs": [],
   "source": [
    "data.insert(0, 'form', 0)"
   ]
  },
  {
   "cell_type": "code",
   "execution_count": 7,
   "metadata": {},
   "outputs": [],
   "source": [
    "data.insert(0, 'prevscore', 0)\n",
    "data.insert(0, 'prevfdr', 0)\n",
    "data.insert(0, 'prev2score', 0)\n",
    "data.insert(0, 'prev2fdr', 0)\n",
    "data.insert(0, 'prev3score', 0)\n",
    "data.insert(0, 'prev3fdr', 0)"
   ]
  },
  {
   "cell_type": "code",
   "execution_count": 8,
   "metadata": {},
   "outputs": [],
   "source": [
    "def calcForm(scores:list)->int:\n",
    "    weights=[1,2,3,4,5]\n",
    "    return sum([x*y for x,y in zip(scores,weights)])"
   ]
  },
  {
   "cell_type": "code",
   "execution_count": 30,
   "metadata": {},
   "outputs": [],
   "source": [
    "prevscorelist = []\n",
    "prev2scorelist = []\n",
    "prev3scorelist = []\n",
    "prevfdrlist = []\n",
    "prev2fdrlist = []\n",
    "prev3fdrlist = []\n",
    "\n",
    "for index, row in data.iterrows():\n",
    "    currgw=row['GW']\n",
    "    \n",
    "    prevscorelist.append(pointsdict[row['playerid']][currgw-2])\n",
    "    prev2scorelist.append(pointsdict[row['playerid']][currgw-3])\n",
    "    prev3scorelist.append(pointsdict[row['playerid']][currgw-4])\n",
    "    prevfdrlist.append(fdrdict[row['playerid']][currgw-2])\n",
    "    prev2fdrlist.append(fdrdict[row['playerid']][currgw-3])\n",
    "    prev3fdrlist.append(fdrdict[row['playerid']][currgw-4])"
   ]
  },
  {
   "cell_type": "code",
   "execution_count": 31,
   "metadata": {},
   "outputs": [],
   "source": [
    "data['prevscore']=prevscorelist\n",
    "data['prev2score']=prev2scorelist\n",
    "data['prev3score']=prev3scorelist\n",
    "data['prevfdr']=prevfdrlist\n",
    "data['prev2fdr']=prev2fdrlist\n",
    "data['prev3fdr']=prev3fdrlist"
   ]
  },
  {
   "cell_type": "code",
   "execution_count": 34,
   "metadata": {},
   "outputs": [
    {
     "data": {
      "text/plain": [
       "Index(['team', 'playerid', 'name', 'assists', 'clean_sheets', 'creativity',\n",
       "       'goals_conceded', 'goals_scored', 'ict_index', 'influence', 'minutes',\n",
       "       'opponent_team', 'round', 'saves', 'team_a_score', 'team_h_score',\n",
       "       'threat', 'total_points', 'value', 'was_home', 'yellow_cards', 'GW',\n",
       "       'fdr', 'prevscore', 'prev2score', 'prev3score', 'prevfdr', 'prev2fdr',\n",
       "       'prev3fdr'],\n",
       "      dtype='object')"
      ]
     },
     "execution_count": 34,
     "metadata": {},
     "output_type": "execute_result"
    }
   ],
   "source": [
    "data.columns"
   ]
  },
  {
   "cell_type": "code",
   "execution_count": 35,
   "metadata": {},
   "outputs": [],
   "source": [
    "feature_cols=['team', 'playerid', 'name', 'minutes', 'opponent_team', 'round', 'value', \n",
    "              'was_home', 'yellow_cards', 'GW', 'fdr', 'prevscore', 'prev2score', \n",
    "              'prev3score', 'prevfdr', 'prev2fdr', 'prev3fdr']"
   ]
  },
  {
   "cell_type": "code",
   "execution_count": null,
   "metadata": {},
   "outputs": [],
   "source": []
  }
 ],
 "metadata": {
  "kernelspec": {
   "display_name": "Python 3",
   "language": "python",
   "name": "python3"
  },
  "language_info": {
   "codemirror_mode": {
    "name": "ipython",
    "version": 3
   },
   "file_extension": ".py",
   "mimetype": "text/x-python",
   "name": "python",
   "nbconvert_exporter": "python",
   "pygments_lexer": "ipython3",
   "version": "3.7.0"
  }
 },
 "nbformat": 4,
 "nbformat_minor": 4
}
