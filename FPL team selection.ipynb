{
 "cells": [
  {
   "cell_type": "code",
   "execution_count": 1,
   "metadata": {},
   "outputs": [],
   "source": [
    "import pandas as pd\n",
    "import seaborn as sns"
   ]
  },
  {
   "cell_type": "code",
   "execution_count": 2,
   "metadata": {},
   "outputs": [],
   "source": [
    "data=pd.read_csv('allgws.csv')"
   ]
  },
  {
   "cell_type": "code",
   "execution_count": 3,
   "metadata": {},
   "outputs": [],
   "source": [
    "data.insert(0, 'playerid', 0)"
   ]
  },
  {
   "cell_type": "code",
   "execution_count": null,
   "metadata": {},
   "outputs": [
    {
     "name": "stderr",
     "output_type": "stream",
     "text": [
      "c:\\python37\\lib\\site-packages\\ipykernel_launcher.py:2: SettingWithCopyWarning: \n",
      "A value is trying to be set on a copy of a slice from a DataFrame\n",
      "\n",
      "See the caveats in the documentation: https://pandas.pydata.org/pandas-docs/stable/user_guide/indexing.html#returning-a-view-versus-a-copy\n",
      "  \n"
     ]
    }
   ],
   "source": [
    "for i in range(len(data)):\n",
    "    data['playerid'][i]=data['name'][i].split('_')[2]"
   ]
  },
  {
   "cell_type": "code",
   "execution_count": null,
   "metadata": {},
   "outputs": [],
   "source": [
    "for i in range(len(data)):\n",
    "    if(data['GW'][i]>38):\n",
    "        data['GW'][i]=data['GW'][i]-9"
   ]
  },
  {
   "cell_type": "code",
   "execution_count": null,
   "metadata": {},
   "outputs": [],
   "source": [
    "data.columns"
   ]
  },
  {
   "cell_type": "code",
   "execution_count": null,
   "metadata": {},
   "outputs": [],
   "source": [
    "data = data.drop(labels=['element', 'transfers_balance', 'transfers_in', 'transfers_out','kickoff_time','selected', 'fixture'], axis=1)"
   ]
  },
  {
   "cell_type": "code",
   "execution_count": null,
   "metadata": {},
   "outputs": [],
   "source": [
    "sns.countplot(data['total_points'])"
   ]
  },
  {
   "cell_type": "code",
   "execution_count": null,
   "metadata": {},
   "outputs": [],
   "source": [
    "data"
   ]
  },
  {
   "cell_type": "code",
   "execution_count": null,
   "metadata": {},
   "outputs": [],
   "source": [
    "idlist = list(data['playerid'].unique())"
   ]
  },
  {
   "cell_type": "markdown",
   "metadata": {},
   "source": [
    "for idn in idlist:\n",
    "    data.loc[(data['id'] == idn) & (data['GW'] == 1)]['points_till_gw']=data.loc[(data['id'] == idn) & (data['GW'] == 1)]['total_points']"
   ]
  },
  {
   "cell_type": "markdown",
   "metadata": {},
   "source": [
    "data.loc[(data['id'] == idn) & (data['GW'] == 1)]['points_till_gw']"
   ]
  },
  {
   "cell_type": "markdown",
   "metadata": {},
   "source": [
    "currgw=2\n",
    "for id in idlist:\n",
    "    prevpoints=data.loc[(data['id'] == id) & (data['GW'] == currgw-1)]['points_till_gw']\n",
    "    data.loc[(data['id'] == id) & (data['GW'] == currgw)]['points_till_gw']+=prevpoints"
   ]
  },
  {
   "cell_type": "code",
   "execution_count": null,
   "metadata": {},
   "outputs": [],
   "source": [
    "data=data.sort_values(by=['GW','playerid'])"
   ]
  },
  {
   "cell_type": "code",
   "execution_count": null,
   "metadata": {},
   "outputs": [],
   "source": [
    "data"
   ]
  },
  {
   "cell_type": "code",
   "execution_count": null,
   "metadata": {},
   "outputs": [],
   "source": [
    "ptsdict = {}\n",
    "for i in range(669):\n",
    "    if(data[data['playerid']==i]['total_points'].sum()>50):#ignoring players who scored <50pts in the season\n",
    "        ptsdict[i]=data[data['playerid']==i]['total_points'].sum()"
   ]
  },
  {
   "cell_type": "code",
   "execution_count": null,
   "metadata": {},
   "outputs": [],
   "source": [
    "for i in data['playerid']:\n",
    "    if(i not in ptsdict.keys()):\n",
    "        data=data[data['playerid']!=i]"
   ]
  },
  {
   "cell_type": "code",
   "execution_count": null,
   "metadata": {},
   "outputs": [],
   "source": [
    "data[data['playerid']==618].iloc[0]"
   ]
  },
  {
   "cell_type": "code",
   "execution_count": null,
   "metadata": {},
   "outputs": [],
   "source": [
    "playerlist=list(data['playerid'].unique())"
   ]
  },
  {
   "cell_type": "code",
   "execution_count": null,
   "metadata": {},
   "outputs": [],
   "source": [
    "for i in playerlist:\n",
    "    if len(data[data['playerid']==i]) !=39:\n",
    "        firstgw=data[data['playerid']==i].iloc[0]['round']\n",
    "        name=data[data['playerid']==i].iloc[0]['name']\n",
    "        for gw in range(1,firstgw):\n",
    "            row = {'playerid':i, 'name':name,'assists':0,'bonus':0,'bps':0,'clean_sheets':0,'creativity':0,\n",
    "                   'goals_conceded':0,'goals_scored':0,'ict_index':0,'influence':0,'minutes':0,\n",
    "                   'opponent_team':0,'own_goals':0,'penalties_missed':0,'penalties_saved':0,'red_cards':0,\n",
    "                   'round':gw,'saves':0,'team_a_score':0,'team_h_score':0,'threat':0,'total_points':0,\n",
    "                   'value':0,'was_home':True,'yellow_cards':0,'GW':gw}\n",
    "            data=data.append(row, ignore_index=True)\n"
   ]
  },
  {
   "cell_type": "code",
   "execution_count": null,
   "metadata": {
    "scrolled": true
   },
   "outputs": [],
   "source": [
    "data"
   ]
  },
  {
   "cell_type": "code",
   "execution_count": null,
   "metadata": {
    "scrolled": true
   },
   "outputs": [],
   "source": [
    "data=data.sort_values(by=['GW','playerid'])"
   ]
  },
  {
   "cell_type": "code",
   "execution_count": null,
   "metadata": {},
   "outputs": [],
   "source": [
    "data.columns"
   ]
  },
  {
   "cell_type": "code",
   "execution_count": null,
   "metadata": {},
   "outputs": [],
   "source": [
    "data[data['GW']==1].sort_values(by=['total_points'])"
   ]
  },
  {
   "cell_type": "code",
   "execution_count": null,
   "metadata": {},
   "outputs": [],
   "source": [
    "sum(data[data['playerid']==338]['total_points'])"
   ]
  },
  {
   "cell_type": "code",
   "execution_count": null,
   "metadata": {},
   "outputs": [],
   "source": [
    "def calcRollingAvg(scores:list)->int:\n",
    "    weights=[1,2,3,4,5]\n",
    "    return sum([x*y for x,y in zip(scores,weights)])"
   ]
  },
  {
   "cell_type": "code",
   "execution_count": null,
   "metadata": {},
   "outputs": [],
   "source": [
    "avgs = {}\n",
    "gwrange = [1,2,3,4,5]\n",
    "for i in playerlist:\n",
    "    scorelist=[]\n",
    "    for g in gwrange:\n",
    "        temp=data[data['GW']==g]\n",
    "        temp=temp[temp['playerid']==i]\n",
    "        scorelist.append(int(temp['total_points']))\n",
    "    avgs[i]=calcRollingAvg(scorelist)"
   ]
  },
  {
   "cell_type": "code",
   "execution_count": null,
   "metadata": {},
   "outputs": [],
   "source": [
    "avgs"
   ]
  }
 ],
 "metadata": {
  "kernelspec": {
   "display_name": "Python 3",
   "language": "python",
   "name": "python3"
  },
  "language_info": {
   "codemirror_mode": {
    "name": "ipython",
    "version": 3
   },
   "file_extension": ".py",
   "mimetype": "text/x-python",
   "name": "python",
   "nbconvert_exporter": "python",
   "pygments_lexer": "ipython3",
   "version": "3.7.0"
  }
 },
 "nbformat": 4,
 "nbformat_minor": 4
}
