{
 "cells": [
  {
   "cell_type": "code",
   "execution_count": 3,
   "metadata": {},
   "outputs": [],
   "source": [
    "import pandas as pd\n",
    "import seaborn as sns\n",
    "import matplotlib.pyplot as plt\n",
    "from sklearn import datasets, ensemble\n",
    "from sklearn.metrics import mean_squared_error\n",
    "from sklearn.model_selection import train_test_split"
   ]
  },
  {
   "cell_type": "code",
   "execution_count": 4,
   "metadata": {},
   "outputs": [],
   "source": [
    "data=pd.read_csv('datacleaned.csv')\n",
    "data=data.drop(['Unnamed: 0'], axis=1)"
   ]
  },
  {
   "cell_type": "code",
   "execution_count": 5,
   "metadata": {},
   "outputs": [],
   "source": [
    "playerlist=list(data['playerid'].unique())"
   ]
  },
  {
   "cell_type": "code",
   "execution_count": 6,
   "metadata": {},
   "outputs": [],
   "source": [
    "pointsdict={}\n",
    "fdrdict={}\n",
    "for i in playerlist:\n",
    "    ptslist=[]\n",
    "    fdrlist=[]\n",
    "    selection=data[data['playerid']==i]\n",
    "    for gw in range(1,39):\n",
    "        ptslist.append(selection[selection['GW']==gw].iloc[0]['total_points'])\n",
    "        fdrlist.append(selection[selection['GW']==gw].iloc[0]['fdr'])\n",
    "    pointsdict[i]=ptslist\n",
    "    fdrdict[i]=fdrlist"
   ]
  },
  {
   "cell_type": "code",
   "execution_count": 7,
   "metadata": {},
   "outputs": [],
   "source": [
    "data.insert(0, 'prevscore', 0)\n",
    "data.insert(0, 'prevfdr', 0)\n",
    "data.insert(0, 'prev2score', 0)\n",
    "data.insert(0, 'prev2fdr', 0)\n",
    "data.insert(0, 'prev3score', 0)\n",
    "data.insert(0, 'prev3fdr', 0)\n",
    "data.insert(0, 'team_goals_scored', 0)\n",
    "data.insert(0, 'team_goals_conceded', 0)"
   ]
  },
  {
   "cell_type": "code",
   "execution_count": 41,
   "metadata": {},
   "outputs": [],
   "source": [
    "def kernel(scores:list)->int:\n",
    "    if(len(scores)==1):\n",
    "        return scores[0]*3\n",
    "    if(len(scores)==2):\n",
    "        return scores[0]*2+scores[1]*3\n",
    "    weights=[1,2,3]\n",
    "    return sum([x*y for x,y in zip(scores,weights)])"
   ]
  },
  {
   "cell_type": "code",
   "execution_count": 9,
   "metadata": {},
   "outputs": [],
   "source": [
    "prevscorelist = []\n",
    "prev2scorelist = []\n",
    "prev3scorelist = []\n",
    "prevfdrlist = []\n",
    "prev2fdrlist = []\n",
    "prev3fdrlist = []\n",
    "goals_scored = []\n",
    "goals_conceded = []\n",
    "\n",
    "for index, row in data.iterrows():\n",
    "    currgw=row['GW']\n",
    "        \n",
    "    if currgw==1:\n",
    "        prevscorelist.append(0)\n",
    "        prevfdrlist.append(-1)\n",
    "    else:\n",
    "        prevscorelist.append(pointsdict[row['playerid']][currgw-2])\n",
    "        prevfdrlist.append(fdrdict[row['playerid']][currgw-2])\n",
    "    \n",
    "    if currgw in [1,2]:\n",
    "        prev2scorelist.append(0)\n",
    "        prev2fdrlist.append(-1)\n",
    "    else:\n",
    "        prev2scorelist.append(pointsdict[row['playerid']][currgw-3])\n",
    "        prev2fdrlist.append(fdrdict[row['playerid']][currgw-3])\n",
    "    \n",
    "    if currgw in [1,2,3]:\n",
    "        prev3scorelist.append(0)\n",
    "        prev3fdrlist.append(-1)\n",
    "    else:\n",
    "        prev3scorelist.append(pointsdict[row['playerid']][currgw-4])\n",
    "        prev3fdrlist.append(fdrdict[row['playerid']][currgw-4])\n",
    "    \n",
    "    if row['was_home']:\n",
    "        goals_scored.append(row['team_h_score'])\n",
    "        goals_conceded.append(row['team_a_score'])\n",
    "    else:\n",
    "        goals_scored.append(row['team_a_score'])\n",
    "        goals_conceded.append(row['team_h_score'])"
   ]
  },
  {
   "cell_type": "code",
   "execution_count": 10,
   "metadata": {},
   "outputs": [],
   "source": [
    "data['prevscore']=prevscorelist\n",
    "data['prev2score']=prev2scorelist\n",
    "data['prev3score']=prev3scorelist\n",
    "data['prevfdr']=prevfdrlist\n",
    "data['prev2fdr']=prev2fdrlist\n",
    "data['prev3fdr']=prev3fdrlist\n",
    "data['team_goals_scored']=goals_scored\n",
    "data['team_goals_conceded']=goals_conceded"
   ]
  },
  {
   "cell_type": "code",
   "execution_count": 47,
   "metadata": {},
   "outputs": [],
   "source": [
    "goalscoring_form=[]\n",
    "defensive_form=[]\n",
    "for i in playerlist:\n",
    "    selection=data[data['playerid']==i]\n",
    "    for gw in range(1,39):\n",
    "        if gw==1:\n",
    "            goalscoring_form.append(0)\n",
    "            defensive_form.append(0)\n",
    "        else:\n",
    "            st_gw=max(1,gw-3)\n",
    "            sco=[selection[(selection['playerid']==i)&(selection['GW']==x)].iloc[0]['team_goals_scored'] for x in range(st_gw, gw)]\n",
    "            con=[selection[(selection['playerid']==i)&(selection['GW']==x)].iloc[0]['team_goals_conceded'] for x in range(st_gw, gw)]\n",
    "            goalscoring_form.append(kernel(sco))\n",
    "            defensive_form.append(-1*kernel(sco))"
   ]
  },
  {
   "cell_type": "code",
   "execution_count": 48,
   "metadata": {},
   "outputs": [],
   "source": [
    "data['att_form']=goalscoring_form\n",
    "data['def_form']=defensive_form"
   ]
  },
  {
   "cell_type": "code",
   "execution_count": 49,
   "metadata": {},
   "outputs": [
    {
     "data": {
      "text/plain": [
       "<matplotlib.axes._subplots.AxesSubplot at 0x16346daf278>"
      ]
     },
     "execution_count": 49,
     "metadata": {},
     "output_type": "execute_result"
    },
    {
     "data": {
      "image/png": "[encoded data removed]",
      "text/plain": [
       "<Figure size 432x288 with 1 Axes>"
      ]
     },
     "metadata": {
      "needs_background": "light"
     },
     "output_type": "display_data"
    }
   ],
   "source": [
    "sns.countplot(data['total_points'])"
   ]
  },
  {
   "cell_type": "code",
   "execution_count": 50,
   "metadata": {},
   "outputs": [
    {
     "data": {
      "text/plain": [
       "Index(['team_goals_conceded', 'team_goals_scored', 'prev3fdr', 'prev3score',\n",
       "       'prev2fdr', 'prev2score', 'prevfdr', 'prevscore', 'team', 'playerid',\n",
       "       'name', 'assists', 'clean_sheets', 'creativity', 'goals_conceded',\n",
       "       'goals_scored', 'ict_index', 'influence', 'minutes', 'opponent_team',\n",
       "       'round', 'saves', 'team_a_score', 'team_h_score', 'threat',\n",
       "       'total_points', 'value', 'was_home', 'yellow_cards', 'GW', 'fdr',\n",
       "       'att_form', 'def_form'],\n",
       "      dtype='object')"
      ]
     },
     "execution_count": 50,
     "metadata": {},
     "output_type": "execute_result"
    }
   ],
   "source": [
    "data.columns"
   ]
  },
  {
   "cell_type": "code",
   "execution_count": 52,
   "metadata": {},
   "outputs": [],
   "source": [
    "feature_cols=['team', 'opponent_team', 'att_form', 'def_form',\n",
    "              'was_home', 'fdr', 'prevscore', 'prev2score', \n",
    "              'prev3score', 'prevfdr', 'prev2fdr', 'prev3fdr']"
   ]
  },
  {
   "cell_type": "code",
   "execution_count": 53,
   "metadata": {},
   "outputs": [],
   "source": [
    "targets=data['total_points']\n",
    "data=data[feature_cols]"
   ]
  },
  {
   "cell_type": "code",
   "execution_count": 54,
   "metadata": {},
   "outputs": [],
   "source": [
    "xtrain, xtest, ytrain, ytest=train_test_split(data, targets, test_size=0.2)"
   ]
  },
  {
   "cell_type": "markdown",
   "metadata": {},
   "source": [
    "#### todo\n",
    "- test on handpicked fixtures\n",
    "- nailedness\n",
    "- team value constraints"
   ]
  },
  {
   "cell_type": "code",
   "execution_count": 55,
   "metadata": {},
   "outputs": [
    {
     "name": "stdout",
     "output_type": "stream",
     "text": [
      "The mean squared error (MSE) on test set: 12.5696\n"
     ]
    }
   ],
   "source": [
    "reg = ensemble.RandomForestRegressor(n_estimators=10000)\n",
    "reg.fit(xtrain, ytrain)\n",
    "\n",
    "mse = mean_squared_error(ytest, reg.predict(xtest))\n",
    "print(\"The mean squared error (MSE) on test set: {:.4f}\".format(mse))"
   ]
  },
  {
   "cell_type": "code",
   "execution_count": 57,
   "metadata": {},
   "outputs": [
    {
     "name": "stdout",
     "output_type": "stream",
     "text": [
      "[0.12950662 0.09482979 0.08811402 0.08786503 0.02454911 0.04804621\n",
      " 0.1185028  0.11164189 0.10996154 0.06339681 0.06181106 0.06177512]\n",
      "['team', 'opponent_team', 'att_form', 'def_form', 'was_home', 'fdr', 'prevscore', 'prev2score', 'prev3score', 'prevfdr', 'prev2fdr', 'prev3fdr']\n"
     ]
    }
   ],
   "source": [
    "print(reg.feature_importances_)\n",
    "print(feature_cols)"
   ]
  }
 ],
 "metadata": {
  "kernelspec": {
   "display_name": "Python 3",
   "language": "python",
   "name": "python3"
  },
  "language_info": {
   "codemirror_mode": {
    "name": "ipython",
    "version": 3
   },
   "file_extension": ".py",
   "mimetype": "text/x-python",
   "name": "python",
   "nbconvert_exporter": "python",
   "pygments_lexer": "ipython3",
   "version": "3.7.0"
  }
 },
 "nbformat": 4,
 "nbformat_minor": 4
}
