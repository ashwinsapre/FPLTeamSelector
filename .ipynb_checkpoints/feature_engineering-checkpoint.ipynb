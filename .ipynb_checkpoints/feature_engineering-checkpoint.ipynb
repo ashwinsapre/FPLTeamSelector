{
 "cells": [
  {
   "cell_type": "code",
   "execution_count": 1,
   "metadata": {},
   "outputs": [],
   "source": [
    "import pandas as pd\n",
    "import seaborn as sns\n",
    "import matplotlib.pyplot as plt\n",
    "from sklearn import datasets, ensemble\n",
    "from sklearn.metrics import mean_squared_error\n",
    "from sklearn.model_selection import train_test_split\n",
    "from sklearn.ensemble import AdaBoostRegressor\n",
    "from sklearn.preprocessing import MinMaxScaler\n",
    "import pprint"
   ]
  },
  {
   "cell_type": "code",
   "execution_count": 2,
   "metadata": {},
   "outputs": [],
   "source": [
    "data=pd.read_csv('datacleaned.csv')\n",
    "data=data.drop(['Unnamed: 0'], axis=1)"
   ]
  },
  {
   "cell_type": "code",
   "execution_count": 3,
   "metadata": {},
   "outputs": [],
   "source": [
    "cols=['team', 'playerid', 'name', 'clean_sheets', 'creativity',\n",
    "       'goals_conceded', 'goals_scored', 'influence', 'minutes',\n",
    "       'opponent_team', 'team_a_score', 'team_h_score',\n",
    "       'threat', 'total_points', 'value', 'was_home', 'GW',\n",
    "       'fdr']\n",
    "data=data[cols]"
   ]
  },
  {
   "cell_type": "code",
   "execution_count": 4,
   "metadata": {},
   "outputs": [],
   "source": [
    "playerlist=list(data['playerid'].unique())"
   ]
  },
  {
   "cell_type": "code",
   "execution_count": 5,
   "metadata": {},
   "outputs": [],
   "source": [
    "pointsdict={}\n",
    "fdrdict={}\n",
    "for i in playerlist:\n",
    "    ptslist=[]\n",
    "    fdrlist=[]\n",
    "    selection=data[data['playerid']==i]\n",
    "    for gw in range(1,39):\n",
    "        ptslist.append(selection[selection['GW']==gw].iloc[0]['total_points'])\n",
    "        fdrlist.append(selection[selection['GW']==gw].iloc[0]['fdr'])\n",
    "    pointsdict[i]=ptslist\n",
    "    fdrdict[i]=fdrlist"
   ]
  },
  {
   "cell_type": "code",
   "execution_count": 6,
   "metadata": {},
   "outputs": [],
   "source": [
    "data.insert(0, 'prevscore', 0)\n",
    "data.insert(0, 'prevfdr', 0)\n",
    "data.insert(0, 'prev2score', 0)\n",
    "data.insert(0, 'prev2fdr', 0)\n",
    "data.insert(0, 'prev3score', 0)\n",
    "data.insert(0, 'prev3fdr', 0)\n",
    "data.insert(0, 'team_goals_scored', 0)\n",
    "data.insert(0, 'team_goals_conceded', 0)"
   ]
  },
  {
   "cell_type": "code",
   "execution_count": 7,
   "metadata": {},
   "outputs": [],
   "source": [
    "def kernel(scores:list)->int:\n",
    "    if(len(scores)==1):\n",
    "        return scores[0]*3\n",
    "    if(len(scores)==2):\n",
    "        return scores[0]*2+scores[1]*3\n",
    "    weights=[1,2,3]\n",
    "    return sum([x*y for x,y in zip(scores,weights)])"
   ]
  },
  {
   "cell_type": "code",
   "execution_count": 8,
   "metadata": {},
   "outputs": [],
   "source": [
    "def fixture_finder(team1, team2, data):\n",
    "    teamdict={1:'ARS', 2:'AVL',3:'BOU', 4:'BHA', 5:'BUR', 6:'CHE', 7:'CRY', 8:'EVE', 9:'LEI', 10:'LIV', 11:'MCI', 12:'MUN',\n",
    "          13:'NEW', 14:'NOR', 15:'SHU', 16:'SOU', 17:'TOT', 18:'WAT', 19:'WHU', 20:'WOL'}\n",
    "    rev_team = {v: k for k, v in teamdict.items()}\n",
    "    t1code=rev_team[team1]\n",
    "    t2code=rev_team[team2]\n",
    "    selection=data[(data['team']==t1code) & (data['opponent_team']==t2code)]\n",
    "    return selection"
   ]
  },
  {
   "cell_type": "code",
   "execution_count": 9,
   "metadata": {},
   "outputs": [],
   "source": [
    "prevscorelist = []\n",
    "prev2scorelist = []\n",
    "prev3scorelist = []\n",
    "prevfdrlist = []\n",
    "prev2fdrlist = []\n",
    "prev3fdrlist = []\n",
    "goals_scored = []\n",
    "goals_conceded = []\n",
    "avg_influence=[]\n",
    "avg_crea=[]\n",
    "avg_threat=[]\n",
    "\n",
    "for index, row in data.iterrows():\n",
    "    currgw=row['GW']\n",
    "    \n",
    "    if currgw==1:\n",
    "        prevscorelist.append(0)\n",
    "        prevfdrlist.append(0)\n",
    "    else:\n",
    "        prevscorelist.append(pointsdict[row['playerid']][currgw-2])\n",
    "        prevfdrlist.append(fdrdict[row['playerid']][currgw-2])\n",
    "    \n",
    "    if currgw in [1,2]:\n",
    "        prev2scorelist.append(0)\n",
    "        prev2fdrlist.append(0)\n",
    "    else:\n",
    "        prev2scorelist.append(pointsdict[row['playerid']][currgw-3])\n",
    "        prev2fdrlist.append(fdrdict[row['playerid']][currgw-3])\n",
    "    \n",
    "    if currgw in [1,2,3]:\n",
    "        prev3scorelist.append(0)\n",
    "        prev3fdrlist.append(0)\n",
    "    else:\n",
    "        prev3scorelist.append(pointsdict[row['playerid']][currgw-4])\n",
    "        prev3fdrlist.append(fdrdict[row['playerid']][currgw-4])\n",
    "    \n",
    "    if row['was_home']:\n",
    "        goals_scored.append(row['team_h_score'])\n",
    "        goals_conceded.append(row['team_a_score'])\n",
    "    else:\n",
    "        goals_scored.append(row['team_a_score'])\n",
    "        goals_conceded.append(row['team_h_score'])"
   ]
  },
  {
   "cell_type": "code",
   "execution_count": 10,
   "metadata": {},
   "outputs": [],
   "source": [
    "data['prevscore']=prevscorelist\n",
    "data['prev2score']=prev2scorelist\n",
    "data['prev3score']=prev3scorelist\n",
    "data['prevfdr']=prevfdrlist\n",
    "data['prev2fdr']=prev2fdrlist\n",
    "data['prev3fdr']=prev3fdrlist\n",
    "data['team_goals_scored']=goals_scored\n",
    "data['team_goals_conceded']=goals_conceded"
   ]
  },
  {
   "cell_type": "code",
   "execution_count": 11,
   "metadata": {},
   "outputs": [],
   "source": [
    "goalscoring_form=[]\n",
    "defensive_form=[]\n",
    "\n",
    "i_avg=[]\n",
    "c_avg=[]\n",
    "t_avg=[]\n",
    "\n",
    "for i in playerlist:\n",
    "    selection=data[data['playerid']==i]\n",
    "    influence_total=[]\n",
    "    creativity_total=[]\n",
    "    threat_total=[]\n",
    "    for gw in range(1,39):\n",
    "        if gw==1:\n",
    "            goalscoring_form.append(0)\n",
    "            defensive_form.append(0)\n",
    "            i_avg.append(0)\n",
    "            c_avg.append(0)\n",
    "            t_avg.append(0)\n",
    "        else:\n",
    "            st_gw=max(1,gw-3)\n",
    "            sco=[selection[(selection['playerid']==i)&(selection['GW']==x)].iloc[0]['team_goals_scored'] for x in range(st_gw, gw)]\n",
    "            con=[selection[(selection['playerid']==i)&(selection['GW']==x)].iloc[0]['team_goals_conceded'] for x in range(st_gw, gw)]\n",
    "            goalscoring_form.append(kernel(sco))\n",
    "            defensive_form.append(-1*kernel(con))\n",
    "            \n",
    "            if(selection[(selection['playerid']==i)&(selection['GW']==gw)].iloc[0]['minutes']>30):\n",
    "                influence_total.append(selection[(selection['playerid']==i)&(selection['GW']==gw)].iloc[0]['influence'])\n",
    "                creativity_total.append(selection[(selection['playerid']==i)&(selection['GW']==gw)].iloc[0]['creativity'])\n",
    "                threat_total.append(selection[(selection['playerid']==i)&(selection['GW']==gw)].iloc[0]['threat'])\n",
    "            \n",
    "            i_avg.append(sum(influence_total)/(len(influence_total)+1))\n",
    "            c_avg.append(sum(creativity_total)/(len(creativity_total)+1))\n",
    "            t_avg.append(sum(threat_total)/(len(threat_total)+1))\n",
    "            \n",
    "            '''\n",
    "            influence_total.append(selection[(selection['playerid']==i)&(selection['GW']==gw-1)].iloc[0]['influence']\n",
    "                                  + selection[(selection['playerid']==i)&(selection['GW']==gw)].iloc[0]['influence'])\n",
    "            creativity_total.append(selection[(selection['playerid']==i)&(selection['GW']==gw-1)].iloc[0]['creativity']\n",
    "                                  + selection[(selection['playerid']==i)&(selection['GW']==gw)].iloc[0]['creativity'])\n",
    "            threat_total.append(selection[(selection['playerid']==i)&(selection['GW']==gw-1)].iloc[0]['threat']\n",
    "                                  + selection[(selection['playerid']==i)&(selection['GW']==gw)].iloc[0]['threat'])\n",
    "            i_avg.append(influence_total[-1]/gw-1)\n",
    "            c_avg.append(creativity_total[-1]/gw-1)\n",
    "            t_avg.append(threat_total[-1]/gw-1)\n",
    "            '''"
   ]
  },
  {
   "cell_type": "code",
   "execution_count": 12,
   "metadata": {},
   "outputs": [],
   "source": [
    "data['att_form']=goalscoring_form\n",
    "data['def_form']=defensive_form\n",
    "data['influence']=i_avg\n",
    "data['creativity']=c_avg\n",
    "data['threat']=t_avg"
   ]
  },
  {
   "cell_type": "markdown",
   "metadata": {},
   "source": [
    "#### Scaling and one-hot encoding"
   ]
  },
  {
   "cell_type": "code",
   "execution_count": 13,
   "metadata": {},
   "outputs": [],
   "source": [
    "data['fdr']-=min(data['fdr'])\n",
    "data['fdr']/=max(data['fdr'])\n",
    "\n",
    "data['att_form']-=min(data['att_form'])\n",
    "data['att_form']/=max(data['att_form'])\n",
    "data['def_form']-=min(data['def_form'])\n",
    "data['def_form']/=max(data['def_form'])\n",
    "data['influence']-=min(data['influence'])\n",
    "data['influence']/=max(data['influence'])\n",
    "data['creativity']-=min(data['creativity'])\n",
    "data['creativity']/=max(data['creativity'])\n",
    "data['threat']-=min(data['threat'])\n",
    "data['threat']/=max(data['threat'])"
   ]
  },
  {
   "cell_type": "code",
   "execution_count": 14,
   "metadata": {},
   "outputs": [],
   "source": [
    "opp_team=pd.get_dummies(data['opponent_team'], prefix='opp_team')\n",
    "for col in opp_team.columns:\n",
    "    data[col]=opp_team[col]"
   ]
  },
  {
   "cell_type": "code",
   "execution_count": 29,
   "metadata": {},
   "outputs": [],
   "source": [
    "ids=pd.get_dummies(data['playerid'], prefix='id')\n",
    "for col in ids.columns:\n",
    "    data[col]=ids[col]"
   ]
  },
  {
   "cell_type": "code",
   "execution_count": 30,
   "metadata": {},
   "outputs": [
    {
     "data": {
      "text/plain": [
       "Index(['team_goals_conceded', 'team_goals_scored', 'prev3fdr', 'prev3score',\n",
       "       'prev2fdr', 'prev2score', 'prevfdr', 'prevscore', 'team', 'playerid',\n",
       "       ...\n",
       "       'id_457', 'id_460', 'id_463', 'id_468', 'id_471', 'id_488', 'id_494',\n",
       "       'id_502', 'id_525', 'id_618'],\n",
       "      dtype='object', length=155)"
      ]
     },
     "execution_count": 30,
     "metadata": {},
     "output_type": "execute_result"
    }
   ],
   "source": [
    "data.columns"
   ]
  },
  {
   "cell_type": "code",
   "execution_count": 31,
   "metadata": {},
   "outputs": [],
   "source": [
    "feature_cols=[col for col in data.columns if col not in ['opponent_team', 'name', 'total_points', 'playerid',\n",
    "                                                         'goals_conceded', 'goals_scored', 'clean_sheets', 'minutes']]\n",
    "targets=data['total_points']\n",
    "newdata=data[feature_cols]"
   ]
  },
  {
   "cell_type": "code",
   "execution_count": 32,
   "metadata": {},
   "outputs": [],
   "source": [
    "xtrain, xtest, ytrain, ytest=train_test_split(newdata, targets, test_size=0.1)"
   ]
  },
  {
   "cell_type": "markdown",
   "metadata": {},
   "source": [
    "#### todo\n",
    "- test on handpicked fixtures\n",
    "- nailedness\n",
    "- team value constraints\n",
    "- ict"
   ]
  },
  {
   "cell_type": "code",
   "execution_count": 39,
   "metadata": {},
   "outputs": [
    {
     "name": "stdout",
     "output_type": "stream",
     "text": [
      "The mean squared error (MSE) on test set: 9.8373\n"
     ]
    }
   ],
   "source": [
    "reg = ensemble.RandomForestRegressor(n_estimators=500)\n",
    "reg.fit(xtrain, ytrain)\n",
    "\n",
    "mse = mean_squared_error(ytest, reg.predict(xtest))\n",
    "print(\"The mean squared error (MSE) on test set: {:.4f}\".format(mse))"
   ]
  },
  {
   "cell_type": "code",
   "execution_count": 40,
   "metadata": {},
   "outputs": [
    {
     "name": "stdout",
     "output_type": "stream",
     "text": [
      "{(0.00012782645502537086, 'id_423'),\n",
      " (0.00013838363445679944, 'id_403'),\n",
      " (0.00015419951218928894, 'id_148'),\n",
      " (0.00024885100472883713, 'id_42'),\n",
      " (0.00026885238083585366, 'id_133'),\n",
      " (0.0002889582814767433, 'id_47'),\n",
      " (0.0003047601207851181, 'id_164'),\n",
      " (0.0003344574414537141, 'id_293'),\n",
      " (0.00035636603026440925, 'id_457'),\n",
      " (0.0003600413407746676, 'id_280'),\n",
      " (0.00042071879938464343, 'id_14'),\n",
      " (0.0004245795156642854, 'id_396'),\n",
      " (0.0004380040643804883, 'id_162'),\n",
      " (0.0004417626327343325, 'id_225'),\n",
      " (0.0004548815303271964, 'id_235'),\n",
      " (0.00047224911353179, 'id_262'),\n",
      " (0.0005493506700032402, 'id_160'),\n",
      " (0.0005759215019449944, 'id_366'),\n",
      " (0.0005848974895865865, 'id_295'),\n",
      " (0.0005874477244798855, 'id_212'),\n",
      " (0.0005930569487637916, 'id_67'),\n",
      " (0.0005991134033208748, 'id_131'),\n",
      " (0.0006041435306031248, 'id_291'),\n",
      " (0.0007071859567392139, 'id_83'),\n",
      " (0.0007114535206205116, 'id_266'),\n",
      " (0.0007337015731021005, 'id_122'),\n",
      " (0.0007803100690218036, 'opp_team_0'),\n",
      " (0.0008268632574535468, 'id_411'),\n",
      " (0.0008315167876708064, 'id_463'),\n",
      " (0.0009783060584815295, 'id_395'),\n",
      " (0.000983486277303381, 'id_494'),\n",
      " (0.0009954081752564774, 'opp_team_10'),\n",
      " (0.001006035620665552, 'id_171'),\n",
      " (0.001048458354152861, 'id_203'),\n",
      " (0.0010589503647261491, 'id_338'),\n",
      " (0.0010751055847690102, 'id_407'),\n",
      " (0.0010904121440512148, 'id_187'),\n",
      " (0.0011040412849544208, 'id_368'),\n",
      " (0.001153228350853708, 'id_448'),\n",
      " (0.0011783441470967118, 'id_254'),\n",
      " (0.001178779685916684, 'id_233'),\n",
      " (0.001230418368787349, 'id_159'),\n",
      " (0.0012378629610598035, 'id_321'),\n",
      " (0.0012652223565913375, 'id_471'),\n",
      " (0.0012760513488181806, 'id_342'),\n",
      " (0.0012780879089433735, 'id_12'),\n",
      " (0.0012933489943118904, 'id_150'),\n",
      " (0.0013064044362818088, 'id_84'),\n",
      " (0.0013244400496001591, 'opp_team_1'),\n",
      " (0.0013273549670816851, 'id_402'),\n",
      " (0.0013275743920006476, 'id_320'),\n",
      " (0.001330739851118006, 'opp_team_17'),\n",
      " (0.0013372885569378982, 'id_460'),\n",
      " (0.0013566176564794921, 'id_93'),\n",
      " (0.0013771942435704748, 'id_189'),\n",
      " (0.0013859818876405838, 'id_318'),\n",
      " (0.0013917924305182358, 'id_488'),\n",
      " (0.0014210678054691053, 'id_431'),\n",
      " (0.0014491808867555186, 'id_123'),\n",
      " (0.0014569031991485731, 'opp_team_14'),\n",
      " (0.0014973077723746651, 'id_97'),\n",
      " (0.0015077912178921358, 'opp_team_8'),\n",
      " (0.0015202199045410252, 'id_409'),\n",
      " (0.0015522181259045658, 'id_362'),\n",
      " (0.0015557137179709765, 'id_199'),\n",
      " (0.001567175945268398, 'opp_team_9'),\n",
      " (0.0015894707608085717, 'opp_team_6'),\n",
      " (0.0016364782453000472, 'id_294'),\n",
      " (0.0016828325624330643, 'id_410'),\n",
      " (0.0016832371394711575, 'id_101'),\n",
      " (0.0017096048321581206, 'id_336'),\n",
      " (0.0017273465752486877, 'id_219'),\n",
      " (0.001779462968014925, 'id_211'),\n",
      " (0.001826304293677962, 'id_218'),\n",
      " (0.0018422612403311384, 'opp_team_11'),\n",
      " (0.0018909702553509067, 'id_415'),\n",
      " (0.001910936194727462, 'id_265'),\n",
      " (0.0019616437934153945, 'id_217'),\n",
      " (0.0019680276230189, 'id_421'),\n",
      " (0.0020328595766734643, 'id_344'),\n",
      " (0.0020466065902366467, 'id_183'),\n",
      " (0.0020849117637585413, 'id_105'),\n",
      " (0.002104796200633003, 'opp_team_3'),\n",
      " (0.002119711542244764, 'opp_team_15'),\n",
      " (0.00221222656479384, 'id_181'),\n",
      " (0.002262986833849263, 'id_198'),\n",
      " (0.002280840939974139, 'id_191'),\n",
      " (0.002281090418460069, 'opp_team_12'),\n",
      " (0.0023089248897878545, 'id_141'),\n",
      " (0.002331622935485557, 'id_239'),\n",
      " (0.002373307961246417, 'id_210'),\n",
      " (0.002379941626981769, 'opp_team_20'),\n",
      " (0.0024189474076005088, 'opp_team_18'),\n",
      " (0.0024306141413397973, 'id_161'),\n",
      " (0.002516534131534715, 'opp_team_2'),\n",
      " (0.002520670569954067, 'id_192'),\n",
      " (0.002573462282417185, 'id_147'),\n",
      " (0.0025809804313574112, 'opp_team_7'),\n",
      " (0.002629565502378696, 'id_525'),\n",
      " (0.002640483234487656, 'id_168'),\n",
      " (0.002678224864583643, 'id_502'),\n",
      " (0.0027158516348036927, 'id_91'),\n",
      " (0.002725319327667216, 'opp_team_13'),\n",
      " (0.002734308495386466, 'id_113'),\n",
      " (0.002764464677970495, 'opp_team_16'),\n",
      " (0.0028699546098599382, 'id_618'),\n",
      " (0.002930188531852537, 'id_278'),\n",
      " (0.0029352097369684652, 'opp_team_4'),\n",
      " (0.0030281801212430743, 'id_401'),\n",
      " (0.0030530452875340438, 'opp_team_5'),\n",
      " (0.003053404516123999, 'id_269'),\n",
      " (0.0031046940895786404, 'id_166'),\n",
      " (0.003192264805343491, 'id_287'),\n",
      " (0.0034306749327418606, 'id_11'),\n",
      " (0.003504098208488081, 'id_29'),\n",
      " (0.003520835890641697, 'id_172'),\n",
      " (0.0035525779576300333, 'id_468'),\n",
      " (0.0035774578177647865, 'opp_team_19'),\n",
      " (0.003612710608554684, 'was_home'),\n",
      " (0.003696460321160115, 'id_417'),\n",
      " (0.0038228557492728833, 'id_301'),\n",
      " (0.00398180433081109, 'id_215'),\n",
      " (0.004117610092711206, 'id_182'),\n",
      " (0.004574019013162699, 'id_214'),\n",
      " (0.004720638767098399, 'id_297'),\n",
      " (0.004838631238828705, 'id_389'),\n",
      " (0.004969308626107552, 'id_234'),\n",
      " (0.005557553459066297, 'id_313'),\n",
      " (0.0091903879642419, 'team_h_score'),\n",
      " (0.01003023472945963, 'team_a_score'),\n",
      " (0.011544516140974497, 'fdr'),\n",
      " (0.011856939860859611, 'prev3fdr'),\n",
      " (0.012586820652330043, 'prevfdr'),\n",
      " (0.012821985883254457, 'prev2fdr'),\n",
      " (0.021459944100700606, 'team'),\n",
      " (0.028385185335250744, 'GW'),\n",
      " (0.029923298958147312, 'prev3score'),\n",
      " (0.033185761927231494, 'prev2score'),\n",
      " (0.03652591404543531, 'def_form'),\n",
      " (0.03744676958355182, 'threat'),\n",
      " (0.038407835227408184, 'att_form'),\n",
      " (0.04100645259828616, 'creativity'),\n",
      " (0.04786713593471088, 'influence'),\n",
      " (0.05937931336142101, 'prevscore'),\n",
      " (0.09876296457091241, 'value'),\n",
      " (0.10423648566817169, 'team_goals_scored'),\n",
      " (0.12243567439092704, 'team_goals_conceded')}\n"
     ]
    }
   ],
   "source": [
    "pprint.pprint(set(zip(reg.feature_importances_, feature_cols)))"
   ]
  },
  {
   "cell_type": "code",
   "execution_count": 35,
   "metadata": {},
   "outputs": [
    {
     "name": "stdout",
     "output_type": "stream",
     "text": [
      "The mean squared error (MSE) on test set: 17.7112\n"
     ]
    }
   ],
   "source": [
    "ada = ensemble.AdaBoostRegressor(n_estimators=500)\n",
    "ada.fit(xtrain, ytrain)\n",
    "\n",
    "mse = mean_squared_error(ytest, ada.predict(xtest))\n",
    "print(\"The mean squared error (MSE) on test set: {:.4f}\".format(mse))"
   ]
  },
  {
   "cell_type": "code",
   "execution_count": 36,
   "metadata": {},
   "outputs": [
    {
     "name": "stdout",
     "output_type": "stream",
     "text": [
      "[9.60352057e-02 1.95063875e-01 4.36860464e-03 1.79344238e-02\n",
      " 2.40174644e-02 3.50582402e-02 2.45698498e-03 4.46540464e-02\n",
      " 1.96821592e-02 6.23997839e-02 4.62810144e-02 7.91010032e-02\n",
      " 3.85609716e-03 5.27994671e-02 6.09288941e-02 2.84062672e-03\n",
      " 1.59205401e-02 3.90365843e-04 2.79345316e-02 3.60748949e-02\n",
      " 0.00000000e+00 0.00000000e+00 0.00000000e+00 0.00000000e+00\n",
      " 1.74339914e-03 0.00000000e+00 0.00000000e+00 0.00000000e+00\n",
      " 0.00000000e+00 2.83396935e-03 0.00000000e+00 0.00000000e+00\n",
      " 2.35888835e-05 0.00000000e+00 0.00000000e+00 0.00000000e+00\n",
      " 1.05642390e-03 0.00000000e+00 0.00000000e+00 0.00000000e+00\n",
      " 0.00000000e+00 0.00000000e+00 0.00000000e+00 0.00000000e+00\n",
      " 0.00000000e+00 0.00000000e+00 0.00000000e+00 0.00000000e+00\n",
      " 0.00000000e+00 1.80152792e-03 0.00000000e+00 0.00000000e+00\n",
      " 0.00000000e+00 0.00000000e+00 0.00000000e+00 2.96689627e-03\n",
      " 0.00000000e+00 4.96207411e-04 0.00000000e+00 0.00000000e+00\n",
      " 0.00000000e+00 0.00000000e+00 0.00000000e+00 0.00000000e+00\n",
      " 0.00000000e+00 0.00000000e+00 0.00000000e+00 0.00000000e+00\n",
      " 0.00000000e+00 0.00000000e+00 6.23591480e-04 0.00000000e+00\n",
      " 3.13005195e-03 0.00000000e+00 1.70091597e-02 9.98778408e-03\n",
      " 0.00000000e+00 0.00000000e+00 0.00000000e+00 0.00000000e+00\n",
      " 0.00000000e+00 0.00000000e+00 4.84736655e-04 1.93318040e-03\n",
      " 0.00000000e+00 0.00000000e+00 3.46446659e-03 2.33886982e-02\n",
      " 0.00000000e+00 0.00000000e+00 0.00000000e+00 0.00000000e+00\n",
      " 0.00000000e+00 0.00000000e+00 0.00000000e+00 1.39359276e-02\n",
      " 0.00000000e+00 0.00000000e+00 0.00000000e+00 0.00000000e+00\n",
      " 0.00000000e+00 0.00000000e+00 0.00000000e+00 0.00000000e+00\n",
      " 0.00000000e+00 0.00000000e+00 0.00000000e+00 5.09620758e-04\n",
      " 3.14019970e-02 0.00000000e+00 0.00000000e+00 2.55767264e-04\n",
      " 0.00000000e+00 0.00000000e+00 0.00000000e+00 0.00000000e+00\n",
      " 0.00000000e+00 0.00000000e+00 0.00000000e+00 0.00000000e+00\n",
      " 0.00000000e+00 4.31004710e-02 0.00000000e+00 0.00000000e+00\n",
      " 0.00000000e+00 0.00000000e+00 0.00000000e+00 0.00000000e+00\n",
      " 0.00000000e+00 0.00000000e+00 0.00000000e+00 0.00000000e+00\n",
      " 1.00932402e-03 0.00000000e+00 0.00000000e+00 0.00000000e+00\n",
      " 0.00000000e+00 0.00000000e+00 0.00000000e+00 0.00000000e+00\n",
      " 0.00000000e+00 0.00000000e+00 6.08778968e-03 0.00000000e+00\n",
      " 0.00000000e+00 4.95719711e-03 0.00000000e+00]\n",
      "['team_goals_conceded', 'team_goals_scored', 'prev3fdr', 'prev3score', 'prev2fdr', 'prev2score', 'prevfdr', 'prevscore', 'team', 'creativity', 'influence', 'team_a_score', 'team_h_score', 'threat', 'value', 'was_home', 'GW', 'fdr', 'att_form', 'def_form', 'opp_team_0', 'opp_team_1', 'opp_team_2', 'opp_team_3', 'opp_team_4', 'opp_team_5', 'opp_team_6', 'opp_team_7', 'opp_team_8', 'opp_team_9', 'opp_team_10', 'opp_team_11', 'opp_team_12', 'opp_team_13', 'opp_team_14', 'opp_team_15', 'opp_team_16', 'opp_team_17', 'opp_team_18', 'opp_team_19', 'opp_team_20', 'id_11', 'id_12', 'id_14', 'id_29', 'id_42', 'id_47', 'id_67', 'id_83', 'id_84', 'id_91', 'id_93', 'id_97', 'id_101', 'id_105', 'id_113', 'id_122', 'id_123', 'id_131', 'id_133', 'id_141', 'id_147', 'id_148', 'id_150', 'id_159', 'id_160', 'id_161', 'id_162', 'id_164', 'id_166', 'id_168', 'id_171', 'id_172', 'id_181', 'id_182', 'id_183', 'id_187', 'id_189', 'id_191', 'id_192', 'id_198', 'id_199', 'id_203', 'id_210', 'id_211', 'id_212', 'id_214', 'id_215', 'id_217', 'id_218', 'id_219', 'id_225', 'id_233', 'id_234', 'id_235', 'id_239', 'id_254', 'id_262', 'id_265', 'id_266', 'id_269', 'id_278', 'id_280', 'id_287', 'id_291', 'id_293', 'id_294', 'id_295', 'id_297', 'id_301', 'id_313', 'id_318', 'id_320', 'id_321', 'id_336', 'id_338', 'id_342', 'id_344', 'id_362', 'id_366', 'id_368', 'id_389', 'id_395', 'id_396', 'id_401', 'id_402', 'id_403', 'id_407', 'id_409', 'id_410', 'id_411', 'id_415', 'id_417', 'id_421', 'id_423', 'id_431', 'id_448', 'id_457', 'id_460', 'id_463', 'id_468', 'id_471', 'id_488', 'id_494', 'id_502', 'id_525', 'id_618']\n"
     ]
    }
   ],
   "source": [
    "print(ada.feature_importances_)\n",
    "print(feature_cols)"
   ]
  }
 ],
 "metadata": {
  "kernelspec": {
   "display_name": "Python 3",
   "language": "python",
   "name": "python3"
  },
  "language_info": {
   "codemirror_mode": {
    "name": "ipython",
    "version": 3
   },
   "file_extension": ".py",
   "mimetype": "text/x-python",
   "name": "python",
   "nbconvert_exporter": "python",
   "pygments_lexer": "ipython3",
   "version": "3.7.0"
  }
 },
 "nbformat": 4,
 "nbformat_minor": 4
}
