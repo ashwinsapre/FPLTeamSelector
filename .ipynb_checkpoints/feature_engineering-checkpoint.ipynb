{
 "cells": [
  {
   "cell_type": "code",
   "execution_count": 116,
   "metadata": {},
   "outputs": [],
   "source": [
    "import pandas as pd\n",
    "import seaborn as sns\n",
    "import matplotlib.pyplot as plt\n",
    "from sklearn import datasets, ensemble\n",
    "from sklearn.metrics import mean_squared_error\n",
    "from sklearn.model_selection import train_test_split\n",
    "from sklearn.ensemble import AdaBoostRegressor\n",
    "from sklearn.preprocessing import MinMaxScaler\n",
    "import pprint"
   ]
  },
  {
   "cell_type": "code",
   "execution_count": 83,
   "metadata": {},
   "outputs": [],
   "source": [
    "data=pd.read_csv('datacleaned.csv')\n",
    "data=data.drop(['Unnamed: 0'], axis=1)"
   ]
  },
  {
   "cell_type": "code",
   "execution_count": 84,
   "metadata": {},
   "outputs": [],
   "source": [
    "cols=['team', 'playerid', 'name', 'clean_sheets', 'creativity',\n",
    "       'goals_conceded', 'goals_scored', 'influence', 'minutes',\n",
    "       'opponent_team', 'team_a_score', 'team_h_score',\n",
    "       'threat', 'total_points', 'value', 'was_home', 'GW',\n",
    "       'fdr']\n",
    "data=data[cols]"
   ]
  },
  {
   "cell_type": "code",
   "execution_count": 85,
   "metadata": {},
   "outputs": [],
   "source": [
    "playerlist=list(data['playerid'].unique())"
   ]
  },
  {
   "cell_type": "code",
   "execution_count": 86,
   "metadata": {},
   "outputs": [],
   "source": [
    "pointsdict={}\n",
    "fdrdict={}\n",
    "for i in playerlist:\n",
    "    ptslist=[]\n",
    "    fdrlist=[]\n",
    "    selection=data[data['playerid']==i]\n",
    "    for gw in range(1,39):\n",
    "        ptslist.append(selection[selection['GW']==gw].iloc[0]['total_points'])\n",
    "        fdrlist.append(selection[selection['GW']==gw].iloc[0]['fdr'])\n",
    "    pointsdict[i]=ptslist\n",
    "    fdrdict[i]=fdrlist"
   ]
  },
  {
   "cell_type": "code",
   "execution_count": 87,
   "metadata": {},
   "outputs": [],
   "source": [
    "data.insert(0, 'prevscore', 0)\n",
    "data.insert(0, 'prevfdr', 0)\n",
    "data.insert(0, 'prev2score', 0)\n",
    "data.insert(0, 'prev2fdr', 0)\n",
    "data.insert(0, 'prev3score', 0)\n",
    "data.insert(0, 'prev3fdr', 0)\n",
    "data.insert(0, 'team_goals_scored', 0)\n",
    "data.insert(0, 'team_goals_conceded', 0)"
   ]
  },
  {
   "cell_type": "code",
   "execution_count": 88,
   "metadata": {},
   "outputs": [],
   "source": [
    "def kernel(scores:list)->int:\n",
    "    if(len(scores)==1):\n",
    "        return scores[0]*3\n",
    "    if(len(scores)==2):\n",
    "        return scores[0]*2+scores[1]*3\n",
    "    weights=[1,2,3]\n",
    "    return sum([x*y for x,y in zip(scores,weights)])"
   ]
  },
  {
   "cell_type": "code",
   "execution_count": 89,
   "metadata": {},
   "outputs": [],
   "source": [
    "def fixture_finder(team1, team2, data):\n",
    "    teamdict={1:'ARS', 2:'AVL',3:'BOU', 4:'BHA', 5:'BUR', 6:'CHE', 7:'CRY', 8:'EVE', 9:'LEI', 10:'LIV', 11:'MCI', 12:'MUN',\n",
    "          13:'NEW', 14:'NOR', 15:'SHU', 16:'SOU', 17:'TOT', 18:'WAT', 19:'WHU', 20:'WOL'}\n",
    "    rev_team = {v: k for k, v in teamdict.items()}\n",
    "    t1code=rev_team[team1]\n",
    "    t2code=rev_team[team2]\n",
    "    selection=data[(data['team']==t1code) & (data['opponent_team']==t2code)]\n",
    "    return selection"
   ]
  },
  {
   "cell_type": "code",
   "execution_count": 90,
   "metadata": {},
   "outputs": [],
   "source": [
    "prevscorelist = []\n",
    "prev2scorelist = []\n",
    "prev3scorelist = []\n",
    "prevfdrlist = []\n",
    "prev2fdrlist = []\n",
    "prev3fdrlist = []\n",
    "goals_scored = []\n",
    "goals_conceded = []\n",
    "avg_influence=[]\n",
    "avg_crea=[]\n",
    "avg_threat=[]\n",
    "\n",
    "for index, row in data.iterrows():\n",
    "    currgw=row['GW']\n",
    "    \n",
    "    if currgw==1:\n",
    "        prevscorelist.append(0)\n",
    "        prevfdrlist.append(0)\n",
    "    else:\n",
    "        prevscorelist.append(pointsdict[row['playerid']][currgw-2])\n",
    "        prevfdrlist.append(fdrdict[row['playerid']][currgw-2])\n",
    "    \n",
    "    if currgw in [1,2]:\n",
    "        prev2scorelist.append(0)\n",
    "        prev2fdrlist.append(0)\n",
    "    else:\n",
    "        prev2scorelist.append(pointsdict[row['playerid']][currgw-3])\n",
    "        prev2fdrlist.append(fdrdict[row['playerid']][currgw-3])\n",
    "    \n",
    "    if currgw in [1,2,3]:\n",
    "        prev3scorelist.append(0)\n",
    "        prev3fdrlist.append(0)\n",
    "    else:\n",
    "        prev3scorelist.append(pointsdict[row['playerid']][currgw-4])\n",
    "        prev3fdrlist.append(fdrdict[row['playerid']][currgw-4])\n",
    "    \n",
    "    if row['was_home']:\n",
    "        goals_scored.append(row['team_h_score'])\n",
    "        goals_conceded.append(row['team_a_score'])\n",
    "    else:\n",
    "        goals_scored.append(row['team_a_score'])\n",
    "        goals_conceded.append(row['team_h_score'])"
   ]
  },
  {
   "cell_type": "code",
   "execution_count": 91,
   "metadata": {},
   "outputs": [],
   "source": [
    "data['prevscore']=prevscorelist\n",
    "data['prev2score']=prev2scorelist\n",
    "data['prev3score']=prev3scorelist\n",
    "data['prevfdr']=prevfdrlist\n",
    "data['prev2fdr']=prev2fdrlist\n",
    "data['prev3fdr']=prev3fdrlist\n",
    "data['team_goals_scored']=goals_scored\n",
    "data['team_goals_conceded']=goals_conceded"
   ]
  },
  {
   "cell_type": "code",
   "execution_count": 92,
   "metadata": {},
   "outputs": [],
   "source": [
    "goalscoring_form=[]\n",
    "defensive_form=[]\n",
    "influence_total=[]\n",
    "creativity_total=[]\n",
    "threat_total=[]\n",
    "\n",
    "i_avg=[]\n",
    "c_avg=[]\n",
    "t_avg=[]\n",
    "\n",
    "for i in playerlist:\n",
    "    selection=data[data['playerid']==i]\n",
    "    for gw in range(1,39):\n",
    "        if gw==1:\n",
    "            goalscoring_form.append(0)\n",
    "            defensive_form.append(0)\n",
    "            influence_total.append(0)\n",
    "            creativity_total.append(0)\n",
    "            threat_total.append(0)\n",
    "            i_avg.append(0)\n",
    "            c_avg.append(0)\n",
    "            t_avg.append(0)\n",
    "        else:\n",
    "            st_gw=max(1,gw-3)\n",
    "            sco=[selection[(selection['playerid']==i)&(selection['GW']==x)].iloc[0]['team_goals_scored'] for x in range(st_gw, gw)]\n",
    "            con=[selection[(selection['playerid']==i)&(selection['GW']==x)].iloc[0]['team_goals_conceded'] for x in range(st_gw, gw)]\n",
    "            goalscoring_form.append(kernel(sco))\n",
    "            defensive_form.append(-1*kernel(con))\n",
    "            '''\n",
    "            influence_total.append(selection[(selection['playerid']==i)&(selection['GW']==gw-1)].iloc[0]['influence']\n",
    "                                  + selection[(selection['playerid']==i)&(selection['GW']==gw)].iloc[0]['influence'])\n",
    "            creativity_total.append(selection[(selection['playerid']==i)&(selection['GW']==gw-1)].iloc[0]['creativity']\n",
    "                                  + selection[(selection['playerid']==i)&(selection['GW']==gw)].iloc[0]['creativity'])\n",
    "            threat_total.append(selection[(selection['playerid']==i)&(selection['GW']==gw-1)].iloc[0]['threat']\n",
    "                                  + selection[(selection['playerid']==i)&(selection['GW']==gw)].iloc[0]['threat'])\n",
    "            i_avg.append(influence_total[-1]/gw-1)\n",
    "            c_avg.append(creativity_total[-1]/gw-1)\n",
    "            t_avg.append(threat_total[-1]/gw-1)\n",
    "            '''"
   ]
  },
  {
   "cell_type": "code",
   "execution_count": 93,
   "metadata": {},
   "outputs": [],
   "source": [
    "data['att_form']=goalscoring_form\n",
    "data['def_form']=defensive_form\n",
    "#data['influence']=i_avg\n",
    "#data['creativity']=c_avg\n",
    "#data['threat']=t_avg"
   ]
  },
  {
   "cell_type": "code",
   "execution_count": 94,
   "metadata": {},
   "outputs": [
    {
     "data": {
      "text/plain": [
       "Index(['team_goals_conceded', 'team_goals_scored', 'prev3fdr', 'prev3score',\n",
       "       'prev2fdr', 'prev2score', 'prevfdr', 'prevscore', 'team', 'playerid',\n",
       "       'name', 'clean_sheets', 'creativity', 'goals_conceded', 'goals_scored',\n",
       "       'influence', 'minutes', 'opponent_team', 'team_a_score', 'team_h_score',\n",
       "       'threat', 'total_points', 'value', 'was_home', 'GW', 'fdr', 'att_form',\n",
       "       'def_form'],\n",
       "      dtype='object')"
      ]
     },
     "execution_count": 94,
     "metadata": {},
     "output_type": "execute_result"
    }
   ],
   "source": [
    "data.columns"
   ]
  },
  {
   "cell_type": "markdown",
   "metadata": {},
   "source": [
    "#### Scaling and one-hot encoding"
   ]
  },
  {
   "cell_type": "code",
   "execution_count": 96,
   "metadata": {},
   "outputs": [],
   "source": [
    "data['fdr']-=min(data['fdr'])\n",
    "data['fdr']/=max(data['fdr'])\n",
    "\n",
    "data['att_form']-=min(data['att_form'])\n",
    "data['att_form']/=max(data['att_form'])\n",
    "data['def_form']-=min(data['def_form'])\n",
    "data['def_form']/=max(data['def_form'])"
   ]
  },
  {
   "cell_type": "code",
   "execution_count": 97,
   "metadata": {},
   "outputs": [],
   "source": [
    "opp_team=pd.get_dummies(data['opponent_team'], prefix='opp_team')\n",
    "for col in opp_team.columns:\n",
    "    data[col]=opp_team[col]"
   ]
  },
  {
   "cell_type": "code",
   "execution_count": 98,
   "metadata": {},
   "outputs": [
    {
     "data": {
      "text/plain": [
       "Index(['team_goals_conceded', 'team_goals_scored', 'prev3fdr', 'prev3score',\n",
       "       'prev2fdr', 'prev2score', 'prevfdr', 'prevscore', 'team', 'playerid',\n",
       "       'name', 'clean_sheets', 'creativity', 'goals_conceded', 'goals_scored',\n",
       "       'influence', 'minutes', 'opponent_team', 'team_a_score', 'team_h_score',\n",
       "       'threat', 'total_points', 'value', 'was_home', 'GW', 'fdr', 'att_form',\n",
       "       'def_form', 'opp_team_0', 'opp_team_1', 'opp_team_2', 'opp_team_3',\n",
       "       'opp_team_4', 'opp_team_5', 'opp_team_6', 'opp_team_7', 'opp_team_8',\n",
       "       'opp_team_9', 'opp_team_10', 'opp_team_11', 'opp_team_12',\n",
       "       'opp_team_13', 'opp_team_14', 'opp_team_15', 'opp_team_16',\n",
       "       'opp_team_17', 'opp_team_18', 'opp_team_19', 'opp_team_20'],\n",
       "      dtype='object')"
      ]
     },
     "execution_count": 98,
     "metadata": {},
     "output_type": "execute_result"
    }
   ],
   "source": [
    "data.columns"
   ]
  },
  {
   "cell_type": "code",
   "execution_count": 119,
   "metadata": {},
   "outputs": [],
   "source": [
    "feature_cols=[col for col in data.columns if col not in ['opponent_team', 'name', 'total_points']]\n",
    "targets=data['total_points']\n",
    "data=data[feature_cols]"
   ]
  },
  {
   "cell_type": "code",
   "execution_count": 120,
   "metadata": {},
   "outputs": [],
   "source": [
    "xtrain, xtest, ytrain, ytest=train_test_split(data, targets, test_size=0.2)"
   ]
  },
  {
   "cell_type": "markdown",
   "metadata": {},
   "source": [
    "#### todo\n",
    "- test on handpicked fixtures\n",
    "- nailedness\n",
    "- team value constraints\n",
    "- ict"
   ]
  },
  {
   "cell_type": "code",
   "execution_count": 121,
   "metadata": {},
   "outputs": [
    {
     "name": "stdout",
     "output_type": "stream",
     "text": [
      "The mean squared error (MSE) on test set: 1.8491\n"
     ]
    }
   ],
   "source": [
    "reg = ensemble.RandomForestRegressor(n_estimators=500)\n",
    "reg.fit(xtrain, ytrain)\n",
    "\n",
    "mse = mean_squared_error(ytest, reg.predict(xtest))\n",
    "print(\"The mean squared error (MSE) on test set: {:.4f}\".format(mse))"
   ]
  },
  {
   "cell_type": "code",
   "execution_count": 122,
   "metadata": {},
   "outputs": [
    {
     "name": "stdout",
     "output_type": "stream",
     "text": [
      "{(0.0, 'opp_team_0'),\n",
      " (0.0002436455207068446, 'opp_team_15'),\n",
      " (0.00027479760078611906, 'opp_team_17'),\n",
      " (0.00031977243069369806, 'opp_team_11'),\n",
      " (0.00039956805185898216, 'opp_team_13'),\n",
      " (0.000401383099670043, 'opp_team_14'),\n",
      " (0.0004031209983454447, 'opp_team_20'),\n",
      " (0.00046213390862063933, 'opp_team_8'),\n",
      " (0.00047067534221664276, 'opp_team_3'),\n",
      " (0.00047879882587596257, 'opp_team_6'),\n",
      " (0.0005036429290671417, 'opp_team_5'),\n",
      " (0.0005322384384433684, 'opp_team_2'),\n",
      " (0.0005624613818135268, 'opp_team_1'),\n",
      " (0.0005917139447704768, 'opp_team_12'),\n",
      " (0.0006001811829834796, 'opp_team_10'),\n",
      " (0.0006848515992255646, 'opp_team_7'),\n",
      " (0.000739087711698267, 'opp_team_16'),\n",
      " (0.0008588411566995634, 'opp_team_9'),\n",
      " (0.0008609684619986002, 'opp_team_19'),\n",
      " (0.0008706148004423529, 'opp_team_18'),\n",
      " (0.0009703011586234904, 'opp_team_4'),\n",
      " (0.0010235812391515184, 'was_home'),\n",
      " (0.002077341580232461, 'fdr'),\n",
      " (0.002102866553801783, 'prevfdr'),\n",
      " (0.0022823851084708044, 'prev2fdr'),\n",
      " (0.0023522484227271943, 'prev3fdr'),\n",
      " (0.0029172934295244477, 'team_a_score'),\n",
      " (0.003416044543156544, 'team_h_score'),\n",
      " (0.004252638711740404, 'team_goals_scored'),\n",
      " (0.004532412337060059, 'prev3score'),\n",
      " (0.005108535427906984, 'team'),\n",
      " (0.00526417322309855, 'prevscore'),\n",
      " (0.005602392794118051, 'att_form'),\n",
      " (0.005623406495888088, 'prev2score'),\n",
      " (0.005717417256178447, 'GW'),\n",
      " (0.0058205507187429565, 'def_form'),\n",
      " (0.006442136366482393, 'team_goals_conceded'),\n",
      " (0.007927307031518328, 'goals_conceded'),\n",
      " (0.008628042471778678, 'playerid'),\n",
      " (0.015705893195414985, 'value'),\n",
      " (0.027259649069851885, 'threat'),\n",
      " (0.031131455343061307, 'creativity'),\n",
      " (0.03149295552093269, 'minutes'),\n",
      " (0.17055468762385756, 'clean_sheets'),\n",
      " (0.19934145124123964, 'goals_scored'),\n",
      " (0.43219433574952393, 'influence')}\n"
     ]
    }
   ],
   "source": [
    "pprint.pprint(set(zip(reg.feature_importances_, feature_cols)))"
   ]
  },
  {
   "cell_type": "code",
   "execution_count": 123,
   "metadata": {},
   "outputs": [
    {
     "name": "stdout",
     "output_type": "stream",
     "text": [
      "The mean squared error (MSE) on test set: 3.0017\n"
     ]
    }
   ],
   "source": [
    "ada = ensemble.AdaBoostRegressor(n_estimators=500)\n",
    "ada.fit(xtrain, ytrain)\n",
    "\n",
    "mse = mean_squared_error(ytest, ada.predict(xtest))\n",
    "print(\"The mean squared error (MSE) on test set: {:.4f}\".format(mse))"
   ]
  },
  {
   "cell_type": "code",
   "execution_count": 124,
   "metadata": {},
   "outputs": [
    {
     "name": "stdout",
     "output_type": "stream",
     "text": [
      "[0.03288038 0.00671739 0.00279261 0.00226614 0.         0.01570042\n",
      " 0.         0.0011684  0.         0.00587152 0.13003564 0.01620116\n",
      " 0.01223506 0.2291164  0.47033282 0.0104358  0.00109233 0.00058194\n",
      " 0.01682858 0.00592183 0.00093892 0.01368261 0.00256331 0.00835865\n",
      " 0.00365259 0.         0.         0.         0.         0.00826383\n",
      " 0.         0.         0.         0.         0.00124101 0.\n",
      " 0.         0.00112064 0.         0.         0.         0.\n",
      " 0.         0.         0.         0.        ]\n",
      "['team_goals_conceded', 'team_goals_scored', 'prev3fdr', 'prev3score', 'prev2fdr', 'prev2score', 'prevfdr', 'prevscore', 'team', 'playerid', 'clean_sheets', 'creativity', 'goals_conceded', 'goals_scored', 'influence', 'minutes', 'team_a_score', 'team_h_score', 'threat', 'value', 'was_home', 'GW', 'fdr', 'att_form', 'def_form', 'opp_team_0', 'opp_team_1', 'opp_team_2', 'opp_team_3', 'opp_team_4', 'opp_team_5', 'opp_team_6', 'opp_team_7', 'opp_team_8', 'opp_team_9', 'opp_team_10', 'opp_team_11', 'opp_team_12', 'opp_team_13', 'opp_team_14', 'opp_team_15', 'opp_team_16', 'opp_team_17', 'opp_team_18', 'opp_team_19', 'opp_team_20']\n"
     ]
    }
   ],
   "source": [
    "print(ada.feature_importances_)\n",
    "print(feature_cols)"
   ]
  }
 ],
 "metadata": {
  "kernelspec": {
   "display_name": "Python 3",
   "language": "python",
   "name": "python3"
  },
  "language_info": {
   "codemirror_mode": {
    "name": "ipython",
    "version": 3
   },
   "file_extension": ".py",
   "mimetype": "text/x-python",
   "name": "python",
   "nbconvert_exporter": "python",
   "pygments_lexer": "ipython3",
   "version": "3.7.0"
  }
 },
 "nbformat": 4,
 "nbformat_minor": 4
}
