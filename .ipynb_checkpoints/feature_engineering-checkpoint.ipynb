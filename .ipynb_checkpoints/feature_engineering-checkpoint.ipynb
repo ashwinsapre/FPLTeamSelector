{
 "cells": [
  {
   "cell_type": "code",
   "execution_count": 1,
   "metadata": {},
   "outputs": [],
   "source": [
    "import pandas as pd\n",
    "import seaborn as sns\n",
    "import matplotlib.pyplot as plt\n",
    "from sklearn import datasets, ensemble\n",
    "from sklearn.metrics import mean_squared_error\n",
    "from sklearn.model_selection import train_test_split\n",
    "from sklearn.ensemble import AdaBoostRegressor\n",
    "from sklearn.preprocessing import MinMaxScaler\n",
    "from xgboost import XGBRegressor\n",
    "import pprint\n",
    "import numpy as np"
   ]
  },
  {
   "cell_type": "code",
   "execution_count": 2,
   "metadata": {},
   "outputs": [],
   "source": [
    "def import_data(path='datacleaned.csv'):\n",
    "    data=pd.read_csv(path)\n",
    "    data=data.drop(['Unnamed: 0'], axis=1)\n",
    "    cols=['team', 'playerid', 'name', 'clean_sheets', 'creativity',\n",
    "       'goals_conceded', 'goals_scored', 'influence', 'minutes',\n",
    "       'opponent_team', 'team_a_score', 'team_h_score',\n",
    "       'threat', 'total_points', 'value', 'was_home', 'GW',\n",
    "       'fdr']\n",
    "    data=data[cols]\n",
    "    return data"
   ]
  },
  {
   "cell_type": "code",
   "execution_count": 3,
   "metadata": {},
   "outputs": [],
   "source": [
    "def kernel(scores:list)->int:\n",
    "    if(len(scores)==1):\n",
    "        return scores[0]*3\n",
    "    if(len(scores)==2):\n",
    "        return scores[0]*2+scores[1]*3\n",
    "    weights=[1,2,3]\n",
    "    return sum([x*y for x,y in zip(scores,weights)])"
   ]
  },
  {
   "cell_type": "code",
   "execution_count": 4,
   "metadata": {},
   "outputs": [],
   "source": [
    "def fixture_finder(team1, team2, data):\n",
    "    teamdict={1:'ARS', 2:'AVL',3:'BOU', 4:'BHA', 5:'BUR', 6:'CHE', 7:'CRY', 8:'EVE', 9:'LEI', 10:'LIV', 11:'MCI', 12:'MUN',\n",
    "          13:'NEW', 14:'NOR', 15:'SHU', 16:'SOU', 17:'TOT', 18:'WAT', 19:'WHU', 20:'WOL'}\n",
    "    rev_team = {v: k for k, v in teamdict.items()}\n",
    "    t1code=rev_team[team1]\n",
    "    t2code=rev_team[team2]\n",
    "    selection=data[(data['team']==t1code) & (data['opponent_team']==t2code) & (data['was_home']==1)]\n",
    "    return selection"
   ]
  },
  {
   "cell_type": "code",
   "execution_count": 5,
   "metadata": {},
   "outputs": [],
   "source": [
    "def prevfeatures(data):\n",
    "    playerlist=list(data['playerid'].unique())\n",
    "    pointsdict={}\n",
    "    fdrdict={}\n",
    "    for i in playerlist:\n",
    "        ptslist=[]\n",
    "        fdrlist=[]\n",
    "        selection=data[data['playerid']==i]\n",
    "        for gw in range(1,39):\n",
    "            ptslist.append(selection[selection['GW']==gw].iloc[0]['total_points'])\n",
    "            fdrlist.append(selection[selection['GW']==gw].iloc[0]['fdr'])\n",
    "        pointsdict[i]=ptslist\n",
    "        fdrdict[i]=fdrlist\n",
    "    \n",
    "    prevscorelist = []\n",
    "    prev2scorelist = []\n",
    "    prev3scorelist = []\n",
    "    prevfdrlist = []\n",
    "    prev2fdrlist = []\n",
    "    prev3fdrlist = []\n",
    "    goals_scored = []\n",
    "    goals_conceded = []\n",
    "\n",
    "    for index, row in data.iterrows():\n",
    "        currgw=row['GW']\n",
    "\n",
    "        if currgw==1:\n",
    "            prevscorelist.append(0)\n",
    "            prevfdrlist.append(0)\n",
    "        else:\n",
    "            prevscorelist.append(pointsdict[row['playerid']][currgw-2])\n",
    "            prevfdrlist.append(fdrdict[row['playerid']][currgw-2])\n",
    "\n",
    "        if currgw in [1,2]:\n",
    "            prev2scorelist.append(0)\n",
    "            prev2fdrlist.append(0)\n",
    "        else:\n",
    "            prev2scorelist.append(pointsdict[row['playerid']][currgw-3])\n",
    "            prev2fdrlist.append(fdrdict[row['playerid']][currgw-3])\n",
    "\n",
    "        if currgw in [1,2,3]:\n",
    "            prev3scorelist.append(0)\n",
    "            prev3fdrlist.append(0)\n",
    "        else:\n",
    "            prev3scorelist.append(pointsdict[row['playerid']][currgw-4])\n",
    "            prev3fdrlist.append(fdrdict[row['playerid']][currgw-4])\n",
    "\n",
    "        if row['was_home']:\n",
    "            goals_scored.append(row['team_h_score'])\n",
    "            goals_conceded.append(row['team_a_score'])\n",
    "        else:\n",
    "            goals_scored.append(row['team_a_score'])\n",
    "            goals_conceded.append(row['team_h_score'])\n",
    "    data['prevscore']=prevscorelist\n",
    "    data['prev2score']=prev2scorelist\n",
    "    data['prev3score']=prev3scorelist\n",
    "    data['prevfdr']=prevfdrlist\n",
    "    data['prev2fdr']=prev2fdrlist\n",
    "    data['prev3fdr']=prev3fdrlist\n",
    "    data['team_goals_scored']=goals_scored\n",
    "    data['team_goals_conceded']=goals_conceded\n",
    "    \n",
    "    return data"
   ]
  },
  {
   "cell_type": "code",
   "execution_count": 6,
   "metadata": {},
   "outputs": [],
   "source": [
    "def ICT(data):\n",
    "    playerlist=list(data['playerid'].unique())\n",
    "    i_avg=[]\n",
    "    c_avg=[]\n",
    "    t_avg=[]\n",
    "    \n",
    "    for i in playerlist:\n",
    "        selection=data[data['playerid']==i]\n",
    "        influence_total=[]\n",
    "        creativity_total=[]\n",
    "        threat_total=[]\n",
    "        \n",
    "        for gw in range(1,39):\n",
    "            if gw==1:\n",
    "                i_avg.append(0)\n",
    "                c_avg.append(0)\n",
    "                t_avg.append(0)\n",
    "            else:\n",
    "                if(selection[(selection['playerid']==i)&(selection['GW']==gw)].iloc[0]['minutes']>30):\n",
    "                    influence_total.append(selection[(selection['playerid']==i)&(selection['GW']==gw)].iloc[0]['influence'])\n",
    "                    creativity_total.append(selection[(selection['playerid']==i)&(selection['GW']==gw)].iloc[0]['creativity'])\n",
    "                    threat_total.append(selection[(selection['playerid']==i)&(selection['GW']==gw)].iloc[0]['threat'])\n",
    "                \n",
    "                i_avg.append(sum(influence_total)/(len(influence_total)+1))\n",
    "                c_avg.append(sum(creativity_total)/(len(creativity_total)+1))\n",
    "                t_avg.append(sum(threat_total)/(len(threat_total)+1))\n",
    "    \n",
    "    data['influence']=i_avg\n",
    "    data['creativity']=c_avg\n",
    "    data['threat']=t_avg\n",
    "    return data"
   ]
  },
  {
   "cell_type": "code",
   "execution_count": 7,
   "metadata": {},
   "outputs": [],
   "source": [
    "def team_form(data):\n",
    "    playerlist=list(data['playerid'].unique())\n",
    "    goalscoring_form=[]\n",
    "    defensive_form=[]\n",
    "\n",
    "    for i in playerlist:\n",
    "        selection=data[data['playerid']==i]\n",
    "\n",
    "        for gw in range(1,39):\n",
    "            if gw==1:\n",
    "                goalscoring_form.append(0)\n",
    "                defensive_form.append(0)\n",
    "            else:\n",
    "                st_gw=max(1,gw-3)\n",
    "                sco=[selection[(selection['playerid']==i)&(selection['GW']==x)].iloc[0]['team_goals_scored'] for x in range(st_gw, gw)]\n",
    "                con=[selection[(selection['playerid']==i)&(selection['GW']==x)].iloc[0]['team_goals_conceded'] for x in range(st_gw, gw)]\n",
    "                goalscoring_form.append(kernel(sco))\n",
    "                defensive_form.append(-1*kernel(con))\n",
    "    data['att_form']=goalscoring_form\n",
    "    data['def_form']=defensive_form\n",
    "    return data"
   ]
  },
  {
   "cell_type": "code",
   "execution_count": 8,
   "metadata": {},
   "outputs": [],
   "source": [
    "def scaling(data):\n",
    "    #fixture difficulty\n",
    "    data['fdr']-=min(data['fdr'])\n",
    "    data['fdr']/=max(data['fdr'])\n",
    "    \n",
    "    #attacking and defensive form\n",
    "    data['att_form']-=min(data['att_form'])\n",
    "    data['att_form']/=max(data['att_form'])\n",
    "    data['def_form']-=min(data['def_form'])\n",
    "    data['def_form']/=max(data['def_form'])\n",
    "    \n",
    "    #ICT\n",
    "    data['influence']-=min(data['influence'])\n",
    "    data['influence']/=max(data['influence'])\n",
    "    data['creativity']-=min(data['creativity'])\n",
    "    data['creativity']/=max(data['creativity'])\n",
    "    data['threat']-=min(data['threat'])\n",
    "    data['threat']/=max(data['threat'])\n",
    "    return data"
   ]
  },
  {
   "cell_type": "code",
   "execution_count": 9,
   "metadata": {},
   "outputs": [],
   "source": [
    "def OHE(data):\n",
    "    #opponent team\n",
    "    opp_team=pd.get_dummies(data['opponent_team'], prefix='opp_team')\n",
    "    for col in opp_team.columns:\n",
    "        data[col]=opp_team[col]\n",
    "    \n",
    "    #player IDs\n",
    "    ids=pd.get_dummies(data['playerid'], prefix='id')\n",
    "    for col in ids.columns:\n",
    "        data[col]=ids[col]\n",
    "        \n",
    "    return data"
   ]
  },
  {
   "cell_type": "code",
   "execution_count": 10,
   "metadata": {},
   "outputs": [],
   "source": [
    "def filter_split(data, test_ratio=0.2):\n",
    "    feature_cols=[col for col in data.columns if col not in ['opponent_team', 'name', 'total_points', 'playerid',\n",
    "                                                         'goals_conceded', 'goals_scored', 'clean_sheets', 'minutes',\n",
    "                                                         'team_goals_scored', 'team_goals_conceded']]\n",
    "    targets=data['total_points']\n",
    "    newdata=data[feature_cols]\n",
    "    xtrain, xtest, ytrain, ytest=train_test_split(newdata, targets, test_size=test_ratio)\n",
    "    return xtrain, xtest, ytrain, ytest"
   ]
  },
  {
   "cell_type": "markdown",
   "metadata": {},
   "source": [
    "#### todo\n",
    "- test on handpicked fixtures\n",
    "- nailedness\n",
    "- team value constraints"
   ]
  },
  {
   "cell_type": "code",
   "execution_count": 11,
   "metadata": {},
   "outputs": [],
   "source": [
    "def execute(verbose=False):\n",
    "    if verbose:\n",
    "        print(\"Importing data...\")\n",
    "    data=import_data()\n",
    "    if verbose:\n",
    "        print(\"Done.\")\n",
    "    if verbose:\n",
    "        print(\"Making features from 3 previous fixtures...\")\n",
    "    data=prevfeatures(data)\n",
    "    if verbose:\n",
    "        print(\"Done.\")\n",
    "    if verbose:\n",
    "        print(\"Creating ICT features...\")\n",
    "    data=ICT(data)\n",
    "    if verbose:\n",
    "        print(\"Done.\")\n",
    "    if verbose:\n",
    "        print(\"Incorporating team form...\")\n",
    "    data=team_form(data)\n",
    "    if verbose:\n",
    "        print(\"Done.\")\n",
    "    if verbose:\n",
    "        print(\"Scaling features...\")\n",
    "    data=scaling(data)\n",
    "    if verbose:\n",
    "        print(\"Done.\")\n",
    "    if verbose:\n",
    "        print(\"Performing one-hot encoding...\")\n",
    "    data=OHE(data)\n",
    "    if verbose:\n",
    "        print(\"Done.\")\n",
    "    if verbose:\n",
    "        print(\"Splitting data for testing...\")\n",
    "    xtrain, xtest, ytrain, ytest=filter_split(data)\n",
    "    if verbose:\n",
    "        print(\"Done.\")\n",
    "    return xtrain, xtest, ytrain, ytest, data"
   ]
  },
  {
   "cell_type": "code",
   "execution_count": 12,
   "metadata": {},
   "outputs": [
    {
     "name": "stdout",
     "output_type": "stream",
     "text": [
      "Importing data...\n",
      "Done.\n",
      "Making features from 3 previous fixtures...\n",
      "Done.\n",
      "Creating ICT fixtures...\n",
      "Done.\n",
      "Incorporating team form...\n",
      "Done.\n",
      "Scaling features...\n",
      "Done.\n",
      "Performing one-hot encoding...\n",
      "Done.\n",
      "Splitting data for testing...\n",
      "Done.\n"
     ]
    }
   ],
   "source": [
    "xtrain, xtest, ytrain, ytest, data=execute(verbose=True)"
   ]
  },
  {
   "cell_type": "markdown",
   "metadata": {},
   "source": [
    "### Random Forest"
   ]
  },
  {
   "cell_type": "code",
   "execution_count": 15,
   "metadata": {},
   "outputs": [
    {
     "name": "stdout",
     "output_type": "stream",
     "text": [
      "The mean squared error (MSE) on test set: 11.6775\n"
     ]
    }
   ],
   "source": [
    "reg = ensemble.RandomForestRegressor(n_estimators=500)\n",
    "reg.fit(xtrain, ytrain)\n",
    "\n",
    "mse = mean_squared_error(ytest, reg.predict(xtest))\n",
    "print(\"The mean squared error (MSE) on test set: {:.4f}\".format(mse))"
   ]
  },
  {
   "cell_type": "code",
   "execution_count": null,
   "metadata": {},
   "outputs": [],
   "source": [
    "pprint.pprint(set(zip(reg.feature_importances_, feature_cols)))"
   ]
  },
  {
   "cell_type": "code",
   "execution_count": 16,
   "metadata": {},
   "outputs": [
    {
     "ename": "NameError",
     "evalue": "name 'data' is not defined",
     "output_type": "error",
     "traceback": [
      "\u001b[1;31m---------------------------------------------------------------------------\u001b[0m",
      "\u001b[1;31mNameError\u001b[0m                                 Traceback (most recent call last)",
      "\u001b[1;32m<ipython-input-16-bb8b79dfac3e>\u001b[0m in \u001b[0;36m<module>\u001b[1;34m\u001b[0m\n\u001b[1;32m----> 1\u001b[1;33m \u001b[0msel\u001b[0m\u001b[1;33m=\u001b[0m\u001b[0mfixture_finder\u001b[0m\u001b[1;33m(\u001b[0m\u001b[1;34m'MUN'\u001b[0m\u001b[1;33m,\u001b[0m \u001b[1;34m'WHU'\u001b[0m\u001b[1;33m,\u001b[0m \u001b[0mdata\u001b[0m\u001b[1;33m)\u001b[0m\u001b[1;33m\u001b[0m\u001b[0m\n\u001b[0m\u001b[0;32m      2\u001b[0m \u001b[0mres\u001b[0m\u001b[1;33m=\u001b[0m\u001b[0msel\u001b[0m\u001b[1;33m[\u001b[0m\u001b[1;34m'total_points'\u001b[0m\u001b[1;33m]\u001b[0m\u001b[1;33m\u001b[0m\u001b[0m\n\u001b[0;32m      3\u001b[0m \u001b[0msel\u001b[0m\u001b[1;33m=\u001b[0m\u001b[0msel\u001b[0m\u001b[1;33m[\u001b[0m\u001b[0mfeature_cols\u001b[0m\u001b[1;33m]\u001b[0m\u001b[1;33m\u001b[0m\u001b[0m\n",
      "\u001b[1;31mNameError\u001b[0m: name 'data' is not defined"
     ]
    }
   ],
   "source": [
    "sel=fixture_finder('MUN', 'WHU', data)\n",
    "res=sel['total_points']\n",
    "sel=sel[feature_cols]"
   ]
  },
  {
   "cell_type": "code",
   "execution_count": null,
   "metadata": {},
   "outputs": [],
   "source": [
    "print(reg.predict(sel))\n",
    "print(np.column_stack(res))"
   ]
  },
  {
   "cell_type": "markdown",
   "metadata": {},
   "source": [
    "### XGBoost"
   ]
  },
  {
   "cell_type": "code",
   "execution_count": null,
   "metadata": {},
   "outputs": [],
   "source": [
    "xgb=XGBRegressor(objective ='reg:linear', n_estimators = 500)\n",
    "xgb.fit(xtrain, ytrain)\n",
    "mse = mean_squared_error(ytest, xgb.predict(xtest))\n",
    "print(\"The mean squared error (MSE) on test set: {:.4f}\".format(mse))"
   ]
  }
 ],
 "metadata": {
  "kernelspec": {
   "display_name": "Python 3",
   "language": "python",
   "name": "python3"
  },
  "language_info": {
   "codemirror_mode": {
    "name": "ipython",
    "version": 3
   },
   "file_extension": ".py",
   "mimetype": "text/x-python",
   "name": "python",
   "nbconvert_exporter": "python",
   "pygments_lexer": "ipython3",
   "version": "3.7.0"
  }
 },
 "nbformat": 4,
 "nbformat_minor": 4
}
