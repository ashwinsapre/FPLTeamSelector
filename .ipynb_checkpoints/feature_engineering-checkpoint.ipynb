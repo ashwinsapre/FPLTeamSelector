{
 "cells": [
  {
   "cell_type": "code",
   "execution_count": 1,
   "metadata": {},
   "outputs": [],
   "source": [
    "import pandas as pd\n",
    "import seaborn as sns\n",
    "import matplotlib.pyplot as plt\n",
    "from sklearn import datasets, ensemble\n",
    "from sklearn.metrics import mean_squared_error\n",
    "from sklearn.model_selection import train_test_split\n",
    "from sklearn.ensemble import AdaBoostRegressor\n",
    "from sklearn.preprocessing import MinMaxScaler"
   ]
  },
  {
   "cell_type": "code",
   "execution_count": 2,
   "metadata": {},
   "outputs": [],
   "source": [
    "data=pd.read_csv('datacleaned.csv')\n",
    "data=data.drop(['Unnamed: 0'], axis=1)"
   ]
  },
  {
   "cell_type": "code",
   "execution_count": 3,
   "metadata": {},
   "outputs": [],
   "source": [
    "playerlist=list(data['playerid'].unique())"
   ]
  },
  {
   "cell_type": "code",
   "execution_count": 4,
   "metadata": {},
   "outputs": [],
   "source": [
    "pointsdict={}\n",
    "fdrdict={}\n",
    "for i in playerlist:\n",
    "    ptslist=[]\n",
    "    fdrlist=[]\n",
    "    selection=data[data['playerid']==i]\n",
    "    for gw in range(1,39):\n",
    "        ptslist.append(selection[selection['GW']==gw].iloc[0]['total_points'])\n",
    "        fdrlist.append(selection[selection['GW']==gw].iloc[0]['fdr'])\n",
    "    pointsdict[i]=ptslist\n",
    "    fdrdict[i]=fdrlist"
   ]
  },
  {
   "cell_type": "code",
   "execution_count": 5,
   "metadata": {},
   "outputs": [],
   "source": [
    "data.insert(0, 'prevscore', 0)\n",
    "data.insert(0, 'prevfdr', 0)\n",
    "data.insert(0, 'prev2score', 0)\n",
    "data.insert(0, 'prev2fdr', 0)\n",
    "data.insert(0, 'prev3score', 0)\n",
    "data.insert(0, 'prev3fdr', 0)\n",
    "data.insert(0, 'team_goals_scored', 0)\n",
    "data.insert(0, 'team_goals_conceded', 0)"
   ]
  },
  {
   "cell_type": "code",
   "execution_count": 6,
   "metadata": {},
   "outputs": [],
   "source": [
    "def kernel(scores:list)->int:\n",
    "    if(len(scores)==1):\n",
    "        return scores[0]*3\n",
    "    if(len(scores)==2):\n",
    "        return scores[0]*2+scores[1]*3\n",
    "    weights=[1,2,3]\n",
    "    return sum([x*y for x,y in zip(scores,weights)])"
   ]
  },
  {
   "cell_type": "code",
   "execution_count": 7,
   "metadata": {},
   "outputs": [],
   "source": [
    "def fixture_finder(team1, team2, data):\n",
    "    teamdict={1:'ARS', 2:'AVL',3:'BOU', 4:'BHA', 5:'BUR', 6:'CHE', 7:'CRY', 8:'EVE', 9:'LEI', 10:'LIV', 11:'MCI', 12:'MUN',\n",
    "          13:'NEW', 14:'NOR', 15:'SHU', 16:'SOU', 17:'TOT', 18:'WAT', 19:'WHU', 20:'WOL'}\n",
    "    rev_team = {v: k for k, v in teamdict.items()}\n",
    "    t1code=rev_team[team1]\n",
    "    t2code=rev_team[team2]\n",
    "    selection=data[(data['team']==t1code) & (data['opponent_team']==t2code)]\n",
    "    return selection"
   ]
  },
  {
   "cell_type": "code",
   "execution_count": 8,
   "metadata": {},
   "outputs": [],
   "source": [
    "prevscorelist = []\n",
    "prev2scorelist = []\n",
    "prev3scorelist = []\n",
    "prevfdrlist = []\n",
    "prev2fdrlist = []\n",
    "prev3fdrlist = []\n",
    "goals_scored = []\n",
    "goals_conceded = []\n",
    "\n",
    "for index, row in data.iterrows():\n",
    "    currgw=row['GW']\n",
    "        \n",
    "    if currgw==1:\n",
    "        prevscorelist.append(0)\n",
    "        prevfdrlist.append(-1)\n",
    "    else:\n",
    "        prevscorelist.append(pointsdict[row['playerid']][currgw-2])\n",
    "        prevfdrlist.append(fdrdict[row['playerid']][currgw-2])\n",
    "    \n",
    "    if currgw in [1,2]:\n",
    "        prev2scorelist.append(0)\n",
    "        prev2fdrlist.append(-1)\n",
    "    else:\n",
    "        prev2scorelist.append(pointsdict[row['playerid']][currgw-3])\n",
    "        prev2fdrlist.append(fdrdict[row['playerid']][currgw-3])\n",
    "    \n",
    "    if currgw in [1,2,3]:\n",
    "        prev3scorelist.append(0)\n",
    "        prev3fdrlist.append(-1)\n",
    "    else:\n",
    "        prev3scorelist.append(pointsdict[row['playerid']][currgw-4])\n",
    "        prev3fdrlist.append(fdrdict[row['playerid']][currgw-4])\n",
    "    \n",
    "    if row['was_home']:\n",
    "        goals_scored.append(row['team_h_score'])\n",
    "        goals_conceded.append(row['team_a_score'])\n",
    "    else:\n",
    "        goals_scored.append(row['team_a_score'])\n",
    "        goals_conceded.append(row['team_h_score'])"
   ]
  },
  {
   "cell_type": "code",
   "execution_count": 9,
   "metadata": {},
   "outputs": [],
   "source": [
    "data['prevscore']=prevscorelist\n",
    "data['prev2score']=prev2scorelist\n",
    "data['prev3score']=prev3scorelist\n",
    "data['prevfdr']=prevfdrlist\n",
    "data['prev2fdr']=prev2fdrlist\n",
    "data['prev3fdr']=prev3fdrlist\n",
    "data['team_goals_scored']=goals_scored\n",
    "data['team_goals_conceded']=goals_conceded"
   ]
  },
  {
   "cell_type": "code",
   "execution_count": 10,
   "metadata": {},
   "outputs": [],
   "source": [
    "goalscoring_form=[]\n",
    "defensive_form=[]\n",
    "for i in playerlist:\n",
    "    selection=data[data['playerid']==i]\n",
    "    for gw in range(1,39):\n",
    "        if gw==1:\n",
    "            goalscoring_form.append(0)\n",
    "            defensive_form.append(0)\n",
    "        else:\n",
    "            st_gw=max(1,gw-3)\n",
    "            sco=[selection[(selection['playerid']==i)&(selection['GW']==x)].iloc[0]['team_goals_scored'] for x in range(st_gw, gw)]\n",
    "            con=[selection[(selection['playerid']==i)&(selection['GW']==x)].iloc[0]['team_goals_conceded'] for x in range(st_gw, gw)]\n",
    "            goalscoring_form.append(kernel(sco))\n",
    "            defensive_form.append(-1*kernel(con))"
   ]
  },
  {
   "cell_type": "code",
   "execution_count": 11,
   "metadata": {},
   "outputs": [],
   "source": [
    "data['att_form']=goalscoring_form\n",
    "data['def_form']=defensive_form"
   ]
  },
  {
   "cell_type": "code",
   "execution_count": 12,
   "metadata": {},
   "outputs": [
    {
     "data": {
      "text/plain": [
       "<matplotlib.axes._subplots.AxesSubplot at 0x1b8a8b13f28>"
      ]
     },
     "execution_count": 12,
     "metadata": {},
     "output_type": "execute_result"
    },
    {
     "data": {
      "image/png": "[encoded data removed]",
      "text/plain": [
       "<Figure size 432x288 with 1 Axes>"
      ]
     },
     "metadata": {
      "needs_background": "light"
     },
     "output_type": "display_data"
    }
   ],
   "source": [
    "sns.countplot(data['total_points'])"
   ]
  },
  {
   "cell_type": "code",
   "execution_count": 14,
   "metadata": {},
   "outputs": [
    {
     "data": {
      "text/plain": [
       "Index(['team_goals_conceded', 'team_goals_scored', 'prev3fdr', 'prev3score',\n",
       "       'prev2fdr', 'prev2score', 'prevfdr', 'prevscore', 'team', 'playerid',\n",
       "       'name', 'assists', 'clean_sheets', 'creativity', 'goals_conceded',\n",
       "       'goals_scored', 'ict_index', 'influence', 'minutes', 'opponent_team',\n",
       "       'round', 'saves', 'team_a_score', 'team_h_score', 'threat',\n",
       "       'total_points', 'value', 'was_home', 'yellow_cards', 'GW', 'fdr',\n",
       "       'att_form', 'def_form'],\n",
       "      dtype='object')"
      ]
     },
     "execution_count": 14,
     "metadata": {},
     "output_type": "execute_result"
    }
   ],
   "source": [
    "data.columns"
   ]
  },
  {
   "cell_type": "code",
   "execution_count": 15,
   "metadata": {},
   "outputs": [],
   "source": [
    "feature_cols=['team', 'opponent_team', 'att_form', 'def_form',\n",
    "              'was_home', 'fdr', 'prevscore', 'prev2score', \n",
    "              'prev3score', 'prevfdr', 'prev2fdr', 'prev3fdr']"
   ]
  },
  {
   "cell_type": "code",
   "execution_count": 16,
   "metadata": {},
   "outputs": [],
   "source": [
    "targets=data['total_points']\n",
    "data=data[feature_cols]"
   ]
  },
  {
   "cell_type": "markdown",
   "metadata": {},
   "source": [
    "#### Scaling"
   ]
  },
  {
   "cell_type": "code",
   "execution_count": 18,
   "metadata": {},
   "outputs": [],
   "source": [
    "data['fdr']-=min(data['fdr'])\n",
    "data['fdr']/=max(data['fdr'])"
   ]
  },
  {
   "cell_type": "code",
   "execution_count": 24,
   "metadata": {},
   "outputs": [],
   "source": [
    "data['att_form']-=min(data['att_form'])\n",
    "data['att_form']/=max(data['att_form'])\n",
    "data['def_form']-=min(data['def_form'])\n",
    "data['def_form']/=max(data['def_form'])"
   ]
  },
  {
   "cell_type": "code",
   "execution_count": 33,
   "metadata": {},
   "outputs": [
    {
     "data": {
      "text/html": [
       "<div>\n",
       "<style scoped>\n",
       "    .dataframe tbody tr th:only-of-type {\n",
       "        vertical-align: middle;\n",
       "    }\n",
       "\n",
       "    .dataframe tbody tr th {\n",
       "        vertical-align: top;\n",
       "    }\n",
       "\n",
       "    .dataframe thead th {\n",
       "        text-align: right;\n",
       "    }\n",
       "</style>\n",
       "<table border=\"1\" class=\"dataframe\">\n",
       "  <thead>\n",
       "    <tr style=\"text-align: right;\">\n",
       "      <th></th>\n",
       "      <th>team</th>\n",
       "      <th>opponent_team</th>\n",
       "      <th>att_form</th>\n",
       "      <th>def_form</th>\n",
       "      <th>was_home</th>\n",
       "      <th>fdr</th>\n",
       "      <th>prevscore</th>\n",
       "      <th>prev2score</th>\n",
       "      <th>prev3score</th>\n",
       "      <th>prevfdr</th>\n",
       "      <th>prev2fdr</th>\n",
       "      <th>prev3fdr</th>\n",
       "    </tr>\n",
       "  </thead>\n",
       "  <tbody>\n",
       "    <tr>\n",
       "      <th>0</th>\n",
       "      <td>1</td>\n",
       "      <td>13</td>\n",
       "      <td>0.00000</td>\n",
       "      <td>1.000000</td>\n",
       "      <td>False</td>\n",
       "      <td>0.500000</td>\n",
       "      <td>0</td>\n",
       "      <td>0</td>\n",
       "      <td>0</td>\n",
       "      <td>-1.0</td>\n",
       "      <td>-1.0</td>\n",
       "      <td>-1.0</td>\n",
       "    </tr>\n",
       "    <tr>\n",
       "      <th>1</th>\n",
       "      <td>1</td>\n",
       "      <td>13</td>\n",
       "      <td>0.09375</td>\n",
       "      <td>1.000000</td>\n",
       "      <td>False</td>\n",
       "      <td>0.500000</td>\n",
       "      <td>0</td>\n",
       "      <td>0</td>\n",
       "      <td>0</td>\n",
       "      <td>-1.0</td>\n",
       "      <td>-1.0</td>\n",
       "      <td>-1.0</td>\n",
       "    </tr>\n",
       "    <tr>\n",
       "      <th>2</th>\n",
       "      <td>1</td>\n",
       "      <td>13</td>\n",
       "      <td>0.25000</td>\n",
       "      <td>0.909091</td>\n",
       "      <td>False</td>\n",
       "      <td>0.500000</td>\n",
       "      <td>0</td>\n",
       "      <td>0</td>\n",
       "      <td>0</td>\n",
       "      <td>-1.0</td>\n",
       "      <td>-1.0</td>\n",
       "      <td>-1.0</td>\n",
       "    </tr>\n",
       "    <tr>\n",
       "      <th>3</th>\n",
       "      <td>2</td>\n",
       "      <td>17</td>\n",
       "      <td>0.25000</td>\n",
       "      <td>0.666667</td>\n",
       "      <td>False</td>\n",
       "      <td>0.833333</td>\n",
       "      <td>0</td>\n",
       "      <td>0</td>\n",
       "      <td>0</td>\n",
       "      <td>-1.0</td>\n",
       "      <td>-1.0</td>\n",
       "      <td>-1.0</td>\n",
       "    </tr>\n",
       "    <tr>\n",
       "      <th>4</th>\n",
       "      <td>3</td>\n",
       "      <td>18</td>\n",
       "      <td>0.31250</td>\n",
       "      <td>0.606061</td>\n",
       "      <td>False</td>\n",
       "      <td>0.500000</td>\n",
       "      <td>0</td>\n",
       "      <td>0</td>\n",
       "      <td>0</td>\n",
       "      <td>-1.0</td>\n",
       "      <td>-1.0</td>\n",
       "      <td>-1.0</td>\n",
       "    </tr>\n",
       "    <tr>\n",
       "      <th>...</th>\n",
       "      <td>...</td>\n",
       "      <td>...</td>\n",
       "      <td>...</td>\n",
       "      <td>...</td>\n",
       "      <td>...</td>\n",
       "      <td>...</td>\n",
       "      <td>...</td>\n",
       "      <td>...</td>\n",
       "      <td>...</td>\n",
       "      <td>...</td>\n",
       "      <td>...</td>\n",
       "      <td>...</td>\n",
       "    </tr>\n",
       "    <tr>\n",
       "      <th>4023</th>\n",
       "      <td>1</td>\n",
       "      <td>18</td>\n",
       "      <td>0.75000</td>\n",
       "      <td>0.818182</td>\n",
       "      <td>True</td>\n",
       "      <td>0.500000</td>\n",
       "      <td>1</td>\n",
       "      <td>2</td>\n",
       "      <td>1</td>\n",
       "      <td>2.0</td>\n",
       "      <td>5.0</td>\n",
       "      <td>4.0</td>\n",
       "    </tr>\n",
       "    <tr>\n",
       "      <th>4024</th>\n",
       "      <td>3</td>\n",
       "      <td>8</td>\n",
       "      <td>0.68750</td>\n",
       "      <td>0.878788</td>\n",
       "      <td>False</td>\n",
       "      <td>0.666667</td>\n",
       "      <td>11</td>\n",
       "      <td>1</td>\n",
       "      <td>3</td>\n",
       "      <td>3.0</td>\n",
       "      <td>5.0</td>\n",
       "      <td>3.0</td>\n",
       "    </tr>\n",
       "    <tr>\n",
       "      <th>4025</th>\n",
       "      <td>4</td>\n",
       "      <td>5</td>\n",
       "      <td>0.53125</td>\n",
       "      <td>0.757576</td>\n",
       "      <td>False</td>\n",
       "      <td>0.666667</td>\n",
       "      <td>2</td>\n",
       "      <td>9</td>\n",
       "      <td>1</td>\n",
       "      <td>2.0</td>\n",
       "      <td>3.0</td>\n",
       "      <td>5.0</td>\n",
       "    </tr>\n",
       "    <tr>\n",
       "      <th>4026</th>\n",
       "      <td>18</td>\n",
       "      <td>1</td>\n",
       "      <td>0.40625</td>\n",
       "      <td>0.878788</td>\n",
       "      <td>False</td>\n",
       "      <td>0.666667</td>\n",
       "      <td>2</td>\n",
       "      <td>2</td>\n",
       "      <td>5</td>\n",
       "      <td>5.0</td>\n",
       "      <td>2.0</td>\n",
       "      <td>2.0</td>\n",
       "    </tr>\n",
       "    <tr>\n",
       "      <th>4027</th>\n",
       "      <td>12</td>\n",
       "      <td>9</td>\n",
       "      <td>0.28125</td>\n",
       "      <td>0.848485</td>\n",
       "      <td>False</td>\n",
       "      <td>0.666667</td>\n",
       "      <td>1</td>\n",
       "      <td>6</td>\n",
       "      <td>5</td>\n",
       "      <td>2.0</td>\n",
       "      <td>2.0</td>\n",
       "      <td>3.0</td>\n",
       "    </tr>\n",
       "  </tbody>\n",
       "</table>\n",
       "<p>4028 rows × 12 columns</p>\n",
       "</div>"
      ],
      "text/plain": [
       "      team  opponent_team  att_form  def_form  was_home       fdr  prevscore  \\\n",
       "0        1             13   0.00000  1.000000     False  0.500000          0   \n",
       "1        1             13   0.09375  1.000000     False  0.500000          0   \n",
       "2        1             13   0.25000  0.909091     False  0.500000          0   \n",
       "3        2             17   0.25000  0.666667     False  0.833333          0   \n",
       "4        3             18   0.31250  0.606061     False  0.500000          0   \n",
       "...    ...            ...       ...       ...       ...       ...        ...   \n",
       "4023     1             18   0.75000  0.818182      True  0.500000          1   \n",
       "4024     3              8   0.68750  0.878788     False  0.666667         11   \n",
       "4025     4              5   0.53125  0.757576     False  0.666667          2   \n",
       "4026    18              1   0.40625  0.878788     False  0.666667          2   \n",
       "4027    12              9   0.28125  0.848485     False  0.666667          1   \n",
       "\n",
       "      prev2score  prev3score  prevfdr  prev2fdr  prev3fdr  \n",
       "0              0           0     -1.0      -1.0      -1.0  \n",
       "1              0           0     -1.0      -1.0      -1.0  \n",
       "2              0           0     -1.0      -1.0      -1.0  \n",
       "3              0           0     -1.0      -1.0      -1.0  \n",
       "4              0           0     -1.0      -1.0      -1.0  \n",
       "...          ...         ...      ...       ...       ...  \n",
       "4023           2           1      2.0       5.0       4.0  \n",
       "4024           1           3      3.0       5.0       3.0  \n",
       "4025           9           1      2.0       3.0       5.0  \n",
       "4026           2           5      5.0       2.0       2.0  \n",
       "4027           6           5      2.0       2.0       3.0  \n",
       "\n",
       "[4028 rows x 12 columns]"
      ]
     },
     "execution_count": 33,
     "metadata": {},
     "output_type": "execute_result"
    }
   ],
   "source": [
    "data"
   ]
  },
  {
   "cell_type": "code",
   "execution_count": 28,
   "metadata": {},
   "outputs": [],
   "source": [
    "xtrain, xtest, ytrain, ytest=train_test_split(data, targets, test_size=0.2)"
   ]
  },
  {
   "cell_type": "markdown",
   "metadata": {},
   "source": [
    "#### todo\n",
    "- test on handpicked fixtures\n",
    "- nailedness\n",
    "- team value constraints\n",
    "- ict"
   ]
  },
  {
   "cell_type": "code",
   "execution_count": 29,
   "metadata": {},
   "outputs": [
    {
     "name": "stdout",
     "output_type": "stream",
     "text": [
      "The mean squared error (MSE) on test set: 11.3041\n"
     ]
    }
   ],
   "source": [
    "reg = ensemble.RandomForestRegressor(n_estimators=500)\n",
    "reg.fit(xtrain, ytrain)\n",
    "\n",
    "mse = mean_squared_error(ytest, reg.predict(xtest))\n",
    "print(\"The mean squared error (MSE) on test set: {:.4f}\".format(mse))"
   ]
  },
  {
   "cell_type": "code",
   "execution_count": 30,
   "metadata": {},
   "outputs": [
    {
     "name": "stdout",
     "output_type": "stream",
     "text": [
      "[0.11752186 0.08727394 0.13282842 0.12053658 0.02023593 0.04837317\n",
      " 0.11081338 0.10221424 0.09863484 0.05222691 0.05288796 0.05645278]\n",
      "['team', 'opponent_team', 'att_form', 'def_form', 'was_home', 'fdr', 'prevscore', 'prev2score', 'prev3score', 'prevfdr', 'prev2fdr', 'prev3fdr']\n"
     ]
    }
   ],
   "source": [
    "print(reg.feature_importances_)\n",
    "print(feature_cols)"
   ]
  },
  {
   "cell_type": "code",
   "execution_count": 31,
   "metadata": {},
   "outputs": [
    {
     "name": "stdout",
     "output_type": "stream",
     "text": [
      "The mean squared error (MSE) on test set: 13.5715\n"
     ]
    }
   ],
   "source": [
    "ada = ensemble.AdaBoostRegressor(n_estimators=500)\n",
    "ada.fit(xtrain, ytrain)\n",
    "\n",
    "mse = mean_squared_error(ytest, ada.predict(xtest))\n",
    "print(\"The mean squared error (MSE) on test set: {:.4f}\".format(mse))"
   ]
  },
  {
   "cell_type": "code",
   "execution_count": 32,
   "metadata": {},
   "outputs": [
    {
     "name": "stdout",
     "output_type": "stream",
     "text": [
      "[0.09479671 0.02124549 0.06592966 0.05380981 0.02235749 0.22817015\n",
      " 0.20115195 0.14683557 0.12738956 0.00553589 0.01026355 0.02251417]\n",
      "['team', 'opponent_team', 'att_form', 'def_form', 'was_home', 'fdr', 'prevscore', 'prev2score', 'prev3score', 'prevfdr', 'prev2fdr', 'prev3fdr']\n"
     ]
    }
   ],
   "source": [
    "print(ada.feature_importances_)\n",
    "print(feature_cols)"
   ]
  }
 ],
 "metadata": {
  "kernelspec": {
   "display_name": "Python 3",
   "language": "python",
   "name": "python3"
  },
  "language_info": {
   "codemirror_mode": {
    "name": "ipython",
    "version": 3
   },
   "file_extension": ".py",
   "mimetype": "text/x-python",
   "name": "python",
   "nbconvert_exporter": "python",
   "pygments_lexer": "ipython3",
   "version": "3.7.0"
  }
 },
 "nbformat": 4,
 "nbformat_minor": 4
}
